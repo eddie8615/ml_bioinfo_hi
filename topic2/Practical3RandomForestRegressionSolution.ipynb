{
 "cells": [
  {
   "cell_type": "markdown",
   "metadata": {},
   "source": [
    "\n",
    "## Regression Using Random Forests\n"
   ]
  },
  {
   "cell_type": "markdown",
   "metadata": {},
   "source": [
    "<h1>Table of contents</h1>\n",
    "\n",
    "<div class=\"alert alert-block alert-info\" style=\"margin-top: 20px\">\n",
    "    <ol>\n",
    "        <li><a href=\"#reading_data\">Reading the data in</a></li>\n",
    "        <li><a href=\"#understanding_data\">Understanding the Problem and Data</a></li>\n",
    "        <li><a href=\"#data_exploration\">Data Exploration</a></li>\n",
    "        <li><a href=\"#simple_regression\">Random Forest Regression Model</a></li>\n",
    "    </ol>\n",
    "</div>\n",
    "<br>\n",
    "<hr>"
   ]
  },
  {
   "cell_type": "markdown",
   "metadata": {},
   "source": [
    "### Importing Needed packages\n"
   ]
  },
  {
   "cell_type": "code",
   "execution_count": 1,
   "metadata": {},
   "outputs": [],
   "source": [
    "import matplotlib.pyplot as plt\n",
    "import pandas as pd\n",
    "import pylab as pl\n",
    "import numpy as np\n",
    "%matplotlib inline"
   ]
  },
  {
   "cell_type": "markdown",
   "metadata": {},
   "source": [
    "<h2 id=\"reading_data\">Reading the data in</h2>\n",
    "Using Panda's read_csv as before"
   ]
  },
  {
   "cell_type": "code",
   "execution_count": 3,
   "metadata": {
    "scrolled": false
   },
   "outputs": [
    {
     "data": {
      "text/plain": [
       "<matplotlib.collections.PathCollection at 0x10aac8e50>"
      ]
     },
     "execution_count": 3,
     "metadata": {},
     "output_type": "execute_result"
    },
    {
     "data": {
      "image/png": "[encoded data removed]",
      "text/plain": [
       "<Figure size 432x288 with 1 Axes>"
      ]
     },
     "metadata": {
      "needs_background": "light"
     },
     "output_type": "display_data"
    }
   ],
   "source": [
    "path_to_file =\"/Users/babylon/Documents/Teaching/ML/ML2021/Data/septic_shock.csv\"\n",
    "septic_shock_data = pd.read_csv(path_to_file, encoding='utf-8')\n",
    "\n",
    "plt.scatter(septic_shock_data.index, septic_shock_data['los'])"
   ]
  },
  {
   "cell_type": "markdown",
   "metadata": {},
   "source": [
    "We can see that there is a large variation in length of stay, with the maximum stay having a length of 175 days"
   ]
  },
  {
   "cell_type": "markdown",
   "metadata": {},
   "source": [
    "\n",
    "\n",
    "<h2 id=\"understanding_data\">Understanding the Problem & Data</h2>\n",
    "\n",
    "### `Septic_shock_data.csv`:\n",
    "\n",
    "- We would like to predict the length of hospital stay __upto 10 days__. How would we formulate the problem?\n",
    "- We have used this dataset before. \n",
    "    - The features included are:\n",
    "        - Age (column 0)\n",
    "        - Gender (column 1)\n",
    "        - comorbidity_elixhauser (column 4)\n",
    "        - Overall sofa (column 5)\n",
    "        - (Overall) Sofa (column 6)\n",
    "        - SOFA subcomponents (columns 7-12)\n",
    "    - Outcome: the length of stay at the hospital: los(column 2)       "
   ]
  },
  {
   "cell_type": "code",
   "execution_count": 4,
   "metadata": {},
   "outputs": [
    {
     "data": {
      "text/html": [
       "<div>\n",
       "<style scoped>\n",
       "    .dataframe tbody tr th:only-of-type {\n",
       "        vertical-align: middle;\n",
       "    }\n",
       "\n",
       "    .dataframe tbody tr th {\n",
       "        vertical-align: top;\n",
       "    }\n",
       "\n",
       "    .dataframe thead th {\n",
       "        text-align: right;\n",
       "    }\n",
       "</style>\n",
       "<table border=\"1\" class=\"dataframe\">\n",
       "  <thead>\n",
       "    <tr style=\"text-align: right;\">\n",
       "      <th></th>\n",
       "      <th>age</th>\n",
       "      <th>gender</th>\n",
       "      <th>los</th>\n",
       "      <th>hospital_mortality</th>\n",
       "      <th>comorbidity_elixhauser</th>\n",
       "      <th>sofa</th>\n",
       "      <th>respiration</th>\n",
       "      <th>coagulation</th>\n",
       "      <th>liver</th>\n",
       "      <th>cardio</th>\n",
       "      <th>cns</th>\n",
       "      <th>renal</th>\n",
       "    </tr>\n",
       "  </thead>\n",
       "  <tbody>\n",
       "    <tr>\n",
       "      <th>0</th>\n",
       "      <td>28</td>\n",
       "      <td>1</td>\n",
       "      <td>6.083333</td>\n",
       "      <td>0</td>\n",
       "      <td>4</td>\n",
       "      <td>2</td>\n",
       "      <td>0</td>\n",
       "      <td>0</td>\n",
       "      <td>1</td>\n",
       "      <td>0</td>\n",
       "      <td>0</td>\n",
       "      <td>1</td>\n",
       "    </tr>\n",
       "    <tr>\n",
       "      <th>1</th>\n",
       "      <td>79</td>\n",
       "      <td>0</td>\n",
       "      <td>7.750000</td>\n",
       "      <td>0</td>\n",
       "      <td>3</td>\n",
       "      <td>2</td>\n",
       "      <td>0</td>\n",
       "      <td>0</td>\n",
       "      <td>0</td>\n",
       "      <td>2</td>\n",
       "      <td>0</td>\n",
       "      <td>0</td>\n",
       "    </tr>\n",
       "    <tr>\n",
       "      <th>2</th>\n",
       "      <td>42</td>\n",
       "      <td>1</td>\n",
       "      <td>17.041667</td>\n",
       "      <td>0</td>\n",
       "      <td>11</td>\n",
       "      <td>2</td>\n",
       "      <td>0</td>\n",
       "      <td>0</td>\n",
       "      <td>0</td>\n",
       "      <td>2</td>\n",
       "      <td>0</td>\n",
       "      <td>0</td>\n",
       "    </tr>\n",
       "    <tr>\n",
       "      <th>3</th>\n",
       "      <td>54</td>\n",
       "      <td>1</td>\n",
       "      <td>8.125000</td>\n",
       "      <td>0</td>\n",
       "      <td>0</td>\n",
       "      <td>2</td>\n",
       "      <td>0</td>\n",
       "      <td>1</td>\n",
       "      <td>0</td>\n",
       "      <td>0</td>\n",
       "      <td>1</td>\n",
       "      <td>0</td>\n",
       "    </tr>\n",
       "    <tr>\n",
       "      <th>4</th>\n",
       "      <td>66</td>\n",
       "      <td>0</td>\n",
       "      <td>12.000000</td>\n",
       "      <td>0</td>\n",
       "      <td>4</td>\n",
       "      <td>2</td>\n",
       "      <td>0</td>\n",
       "      <td>0</td>\n",
       "      <td>0</td>\n",
       "      <td>2</td>\n",
       "      <td>0</td>\n",
       "      <td>0</td>\n",
       "    </tr>\n",
       "  </tbody>\n",
       "</table>\n",
       "</div>"
      ],
      "text/plain": [
       "   age  gender        los  hospital_mortality  comorbidity_elixhauser  sofa  \\\n",
       "0   28       1   6.083333                   0                       4     2   \n",
       "1   79       0   7.750000                   0                       3     2   \n",
       "2   42       1  17.041667                   0                      11     2   \n",
       "3   54       1   8.125000                   0                       0     2   \n",
       "4   66       0  12.000000                   0                       4     2   \n",
       "\n",
       "   respiration  coagulation  liver  cardio  cns  renal  \n",
       "0            0            0      1       0    0      1  \n",
       "1            0            0      0       2    0      0  \n",
       "2            0            0      0       2    0      0  \n",
       "3            0            1      0       0    1      0  \n",
       "4            0            0      0       2    0      0  "
      ]
     },
     "execution_count": 4,
     "metadata": {},
     "output_type": "execute_result"
    }
   ],
   "source": [
    "septic_shock_data.head()"
   ]
  },
  {
   "cell_type": "markdown",
   "metadata": {},
   "source": [
    "- Since we are only interested in los as an outcome, and we previously saw that gender is not relevant to predicting outcomes, we can create a smaller dataframe to contain the featuers and outcome we are interested in\n",
    "- Features: \n",
    "    - age\n",
    "    - comorbidity_elixhauser\n",
    "    - sofa\n",
    "    - respiration\n",
    "    - coagulation\n",
    "    - liver\n",
    "    - cardio\n",
    "    - cns\n",
    "    - renal\n",
    "- outcome:\n",
    "    - los"
   ]
  },
  {
   "cell_type": "code",
   "execution_count": 5,
   "metadata": {
    "scrolled": true
   },
   "outputs": [
    {
     "data": {
      "text/html": [
       "<div>\n",
       "<style scoped>\n",
       "    .dataframe tbody tr th:only-of-type {\n",
       "        vertical-align: middle;\n",
       "    }\n",
       "\n",
       "    .dataframe tbody tr th {\n",
       "        vertical-align: top;\n",
       "    }\n",
       "\n",
       "    .dataframe thead th {\n",
       "        text-align: right;\n",
       "    }\n",
       "</style>\n",
       "<table border=\"1\" class=\"dataframe\">\n",
       "  <thead>\n",
       "    <tr style=\"text-align: right;\">\n",
       "      <th></th>\n",
       "      <th>age</th>\n",
       "      <th>comorbidity_elixhauser</th>\n",
       "      <th>sofa</th>\n",
       "      <th>respiration</th>\n",
       "      <th>coagulation</th>\n",
       "      <th>liver</th>\n",
       "      <th>cardio</th>\n",
       "      <th>cns</th>\n",
       "      <th>renal</th>\n",
       "      <th>los</th>\n",
       "    </tr>\n",
       "  </thead>\n",
       "  <tbody>\n",
       "    <tr>\n",
       "      <th>0</th>\n",
       "      <td>28</td>\n",
       "      <td>4</td>\n",
       "      <td>2</td>\n",
       "      <td>0</td>\n",
       "      <td>0</td>\n",
       "      <td>1</td>\n",
       "      <td>0</td>\n",
       "      <td>0</td>\n",
       "      <td>1</td>\n",
       "      <td>6.083333</td>\n",
       "    </tr>\n",
       "    <tr>\n",
       "      <th>1</th>\n",
       "      <td>79</td>\n",
       "      <td>3</td>\n",
       "      <td>2</td>\n",
       "      <td>0</td>\n",
       "      <td>0</td>\n",
       "      <td>0</td>\n",
       "      <td>2</td>\n",
       "      <td>0</td>\n",
       "      <td>0</td>\n",
       "      <td>7.750000</td>\n",
       "    </tr>\n",
       "    <tr>\n",
       "      <th>2</th>\n",
       "      <td>42</td>\n",
       "      <td>11</td>\n",
       "      <td>2</td>\n",
       "      <td>0</td>\n",
       "      <td>0</td>\n",
       "      <td>0</td>\n",
       "      <td>2</td>\n",
       "      <td>0</td>\n",
       "      <td>0</td>\n",
       "      <td>17.041667</td>\n",
       "    </tr>\n",
       "    <tr>\n",
       "      <th>3</th>\n",
       "      <td>54</td>\n",
       "      <td>0</td>\n",
       "      <td>2</td>\n",
       "      <td>0</td>\n",
       "      <td>1</td>\n",
       "      <td>0</td>\n",
       "      <td>0</td>\n",
       "      <td>1</td>\n",
       "      <td>0</td>\n",
       "      <td>8.125000</td>\n",
       "    </tr>\n",
       "    <tr>\n",
       "      <th>4</th>\n",
       "      <td>66</td>\n",
       "      <td>4</td>\n",
       "      <td>2</td>\n",
       "      <td>0</td>\n",
       "      <td>0</td>\n",
       "      <td>0</td>\n",
       "      <td>2</td>\n",
       "      <td>0</td>\n",
       "      <td>0</td>\n",
       "      <td>12.000000</td>\n",
       "    </tr>\n",
       "  </tbody>\n",
       "</table>\n",
       "</div>"
      ],
      "text/plain": [
       "   age  comorbidity_elixhauser  sofa  respiration  coagulation  liver  cardio  \\\n",
       "0   28                       4     2            0            0      1       0   \n",
       "1   79                       3     2            0            0      0       2   \n",
       "2   42                      11     2            0            0      0       2   \n",
       "3   54                       0     2            0            1      0       0   \n",
       "4   66                       4     2            0            0      0       2   \n",
       "\n",
       "   cns  renal        los  \n",
       "0    0      1   6.083333  \n",
       "1    0      0   7.750000  \n",
       "2    0      0  17.041667  \n",
       "3    1      0   8.125000  \n",
       "4    0      0  12.000000  "
      ]
     },
     "execution_count": 5,
     "metadata": {},
     "output_type": "execute_result"
    }
   ],
   "source": [
    "septic_shock_regression_df = septic_shock_data[['age','comorbidity_elixhauser','sofa','respiration','coagulation','liver','cardio','cns','renal','los']]\n",
    "\n",
    "septic_shock_regression_df.head()"
   ]
  },
  {
   "cell_type": "markdown",
   "metadata": {},
   "source": [
    "- Moreover, since we are interested in predicting los upto 10 days, it does not make sense to train the model on the entire dataset. \n",
    "- It is therefore to extract a subset of the dataframe containing those entries whose los is less than 10 days: "
   ]
  },
  {
   "cell_type": "code",
   "execution_count": 6,
   "metadata": {},
   "outputs": [],
   "source": [
    "septic_shock_regression_df = septic_shock_regression_df.loc[septic_shock_regression_df.los<10]"
   ]
  },
  {
   "cell_type": "markdown",
   "metadata": {},
   "source": [
    "<h2 id=\"data_exploration\">Data Exploration</h2>\n",
    "Lets first have a descriptive exploration on our data."
   ]
  },
  {
   "cell_type": "code",
   "execution_count": 7,
   "metadata": {},
   "outputs": [
    {
     "data": {
      "text/html": [
       "<div>\n",
       "<style scoped>\n",
       "    .dataframe tbody tr th:only-of-type {\n",
       "        vertical-align: middle;\n",
       "    }\n",
       "\n",
       "    .dataframe tbody tr th {\n",
       "        vertical-align: top;\n",
       "    }\n",
       "\n",
       "    .dataframe thead th {\n",
       "        text-align: right;\n",
       "    }\n",
       "</style>\n",
       "<table border=\"1\" class=\"dataframe\">\n",
       "  <thead>\n",
       "    <tr style=\"text-align: right;\">\n",
       "      <th></th>\n",
       "      <th>age</th>\n",
       "      <th>comorbidity_elixhauser</th>\n",
       "      <th>sofa</th>\n",
       "      <th>respiration</th>\n",
       "      <th>coagulation</th>\n",
       "      <th>liver</th>\n",
       "      <th>cardio</th>\n",
       "      <th>cns</th>\n",
       "      <th>renal</th>\n",
       "      <th>los</th>\n",
       "    </tr>\n",
       "  </thead>\n",
       "  <tbody>\n",
       "    <tr>\n",
       "      <th>count</th>\n",
       "      <td>3523.000000</td>\n",
       "      <td>3523.000000</td>\n",
       "      <td>3523.000000</td>\n",
       "      <td>3523.000000</td>\n",
       "      <td>3523.000000</td>\n",
       "      <td>3523.000000</td>\n",
       "      <td>3523.000000</td>\n",
       "      <td>3523.000000</td>\n",
       "      <td>3523.000000</td>\n",
       "      <td>3523.000000</td>\n",
       "    </tr>\n",
       "    <tr>\n",
       "      <th>mean</th>\n",
       "      <td>67.976441</td>\n",
       "      <td>8.917400</td>\n",
       "      <td>7.600624</td>\n",
       "      <td>1.680670</td>\n",
       "      <td>0.766960</td>\n",
       "      <td>0.403066</td>\n",
       "      <td>2.619359</td>\n",
       "      <td>0.816917</td>\n",
       "      <td>1.329833</td>\n",
       "      <td>5.377566</td>\n",
       "    </tr>\n",
       "    <tr>\n",
       "      <th>std</th>\n",
       "      <td>15.134801</td>\n",
       "      <td>8.266998</td>\n",
       "      <td>3.686966</td>\n",
       "      <td>1.601369</td>\n",
       "      <td>0.936313</td>\n",
       "      <td>0.883254</td>\n",
       "      <td>1.626422</td>\n",
       "      <td>1.285585</td>\n",
       "      <td>1.449582</td>\n",
       "      <td>2.734690</td>\n",
       "    </tr>\n",
       "    <tr>\n",
       "      <th>min</th>\n",
       "      <td>16.000000</td>\n",
       "      <td>-14.000000</td>\n",
       "      <td>2.000000</td>\n",
       "      <td>0.000000</td>\n",
       "      <td>0.000000</td>\n",
       "      <td>0.000000</td>\n",
       "      <td>0.000000</td>\n",
       "      <td>0.000000</td>\n",
       "      <td>0.000000</td>\n",
       "      <td>0.166667</td>\n",
       "    </tr>\n",
       "    <tr>\n",
       "      <th>25%</th>\n",
       "      <td>58.000000</td>\n",
       "      <td>3.000000</td>\n",
       "      <td>5.000000</td>\n",
       "      <td>0.000000</td>\n",
       "      <td>0.000000</td>\n",
       "      <td>0.000000</td>\n",
       "      <td>0.000000</td>\n",
       "      <td>0.000000</td>\n",
       "      <td>0.000000</td>\n",
       "      <td>3.541667</td>\n",
       "    </tr>\n",
       "    <tr>\n",
       "      <th>50%</th>\n",
       "      <td>70.000000</td>\n",
       "      <td>7.000000</td>\n",
       "      <td>7.000000</td>\n",
       "      <td>2.000000</td>\n",
       "      <td>0.000000</td>\n",
       "      <td>0.000000</td>\n",
       "      <td>3.000000</td>\n",
       "      <td>0.000000</td>\n",
       "      <td>1.000000</td>\n",
       "      <td>5.625000</td>\n",
       "    </tr>\n",
       "    <tr>\n",
       "      <th>75%</th>\n",
       "      <td>80.000000</td>\n",
       "      <td>14.000000</td>\n",
       "      <td>10.000000</td>\n",
       "      <td>3.000000</td>\n",
       "      <td>1.000000</td>\n",
       "      <td>0.000000</td>\n",
       "      <td>4.000000</td>\n",
       "      <td>1.000000</td>\n",
       "      <td>2.000000</td>\n",
       "      <td>7.625000</td>\n",
       "    </tr>\n",
       "    <tr>\n",
       "      <th>max</th>\n",
       "      <td>90.000000</td>\n",
       "      <td>50.000000</td>\n",
       "      <td>22.000000</td>\n",
       "      <td>4.000000</td>\n",
       "      <td>4.000000</td>\n",
       "      <td>4.000000</td>\n",
       "      <td>4.000000</td>\n",
       "      <td>4.000000</td>\n",
       "      <td>4.000000</td>\n",
       "      <td>9.958333</td>\n",
       "    </tr>\n",
       "  </tbody>\n",
       "</table>\n",
       "</div>"
      ],
      "text/plain": [
       "               age  comorbidity_elixhauser         sofa  respiration  \\\n",
       "count  3523.000000             3523.000000  3523.000000  3523.000000   \n",
       "mean     67.976441                8.917400     7.600624     1.680670   \n",
       "std      15.134801                8.266998     3.686966     1.601369   \n",
       "min      16.000000              -14.000000     2.000000     0.000000   \n",
       "25%      58.000000                3.000000     5.000000     0.000000   \n",
       "50%      70.000000                7.000000     7.000000     2.000000   \n",
       "75%      80.000000               14.000000    10.000000     3.000000   \n",
       "max      90.000000               50.000000    22.000000     4.000000   \n",
       "\n",
       "       coagulation        liver       cardio          cns        renal  \\\n",
       "count  3523.000000  3523.000000  3523.000000  3523.000000  3523.000000   \n",
       "mean      0.766960     0.403066     2.619359     0.816917     1.329833   \n",
       "std       0.936313     0.883254     1.626422     1.285585     1.449582   \n",
       "min       0.000000     0.000000     0.000000     0.000000     0.000000   \n",
       "25%       0.000000     0.000000     0.000000     0.000000     0.000000   \n",
       "50%       0.000000     0.000000     3.000000     0.000000     1.000000   \n",
       "75%       1.000000     0.000000     4.000000     1.000000     2.000000   \n",
       "max       4.000000     4.000000     4.000000     4.000000     4.000000   \n",
       "\n",
       "               los  \n",
       "count  3523.000000  \n",
       "mean      5.377566  \n",
       "std       2.734690  \n",
       "min       0.166667  \n",
       "25%       3.541667  \n",
       "50%       5.625000  \n",
       "75%       7.625000  \n",
       "max       9.958333  "
      ]
     },
     "execution_count": 7,
     "metadata": {},
     "output_type": "execute_result"
    }
   ],
   "source": [
    "# summarize the data\n",
    "septic_shock_regression_df.describe()"
   ]
  },
  {
   "cell_type": "markdown",
   "metadata": {},
   "source": [
    "#### Creating train and test dataset\n",
    "Train/Test Split involves splitting the dataset into training and testing sets respectively, which are mutually exclusive. After which, you train with the training set and test with the testing set. \n",
    "This will provide a more accurate evaluation on out-of-sample accuracy because the testing dataset is not part of the dataset that have been used to train the data. It is more realistic for real world problems.\n",
    "\n",
    "This means that we know the outcome of each data point in this dataset, making it great to test with! And since this data has not been used to train the model, the model has no knowledge of the outcome of these data points. So, in essence, it is truly an out-of-sample testing. (More about this tomorrow!)\n",
    "\n",
    "Lets split our dataset into train and test sets. We have previously used train_test_split for this. Let's try another way:\n",
    "  1. create a mask to select random rows using __np.random.rand()__ function: \n",
    "  2. Dsignate 90% of the entire data for training, and the 10% for testing."
   ]
  },
  {
   "cell_type": "code",
   "execution_count": 8,
   "metadata": {},
   "outputs": [],
   "source": [
    "mask = np.random.rand(len(septic_shock_regression_df)) < 0.9\n",
    "train = septic_shock_regression_df[mask]\n",
    "test = septic_shock_regression_df[~mask]"
   ]
  },
  {
   "cell_type": "code",
   "execution_count": 9,
   "metadata": {
    "scrolled": false
   },
   "outputs": [],
   "source": [
    "\n",
    "# Create Training and test data\n",
    "\n",
    "train_x = np.asanyarray(train[['age','comorbidity_elixhauser','sofa','respiration','coagulation','liver','cardio','cns','renal']])\n",
    "train_y = (train[['los']]).values.ravel()\n",
    "\n",
    "test_x = np.asanyarray(test[['age','comorbidity_elixhauser','sofa','respiration','coagulation','liver','cardio','cns','renal']])\n",
    "test_y = (test[['los']]).values.ravel()\n"
   ]
  },
  {
   "cell_type": "markdown",
   "metadata": {},
   "source": [
    "2. Create a Random Forest Regressor. Let's go with the parameters below. We will looking into searching for the optimal parameters tomorrow"
   ]
  },
  {
   "cell_type": "code",
   "execution_count": 10,
   "metadata": {
    "scrolled": true
   },
   "outputs": [],
   "source": [
    "from sklearn.ensemble import RandomForestRegressor\n",
    "\n",
    "rf_regressor = RandomForestRegressor(random_state = 42, n_estimators = 1000, max_features=4)\n"
   ]
  },
  {
   "cell_type": "markdown",
   "metadata": {},
   "source": [
    "3. Fit the random forest regressor to the training data and make the predictions on the test set"
   ]
  },
  {
   "cell_type": "code",
   "execution_count": 11,
   "metadata": {
    "scrolled": false
   },
   "outputs": [
    {
     "name": "stdout",
     "output_type": "stream",
     "text": [
      "(323,)\n",
      "(323,)\n"
     ]
    }
   ],
   "source": [
    "rf_regressor.fit(train_x, train_y)  \n",
    "y_pred= rf_regressor.predict(test_x)  \n",
    "\n",
    "\n",
    "print(y_pred.shape)\n",
    "print(test_y.shape)\n"
   ]
  },
  {
   "cell_type": "markdown",
   "metadata": {
    "scrolled": true
   },
   "source": [
    "#### Evaluation\n",
    "we compare the actual values and predicted values to calculate the accuracy of a regression model. Evaluation metrics provide a key role in the development of a model, as it provides insight to areas that require improvement.\n",
    "\n",
    "There are different model evaluation metrics for regression problems, lets use MSE here to calculate the accuracy of our model based on the test set. Summary of regressione evaluation metrics: \n",
    "<ul>\n",
    "    <li> R²: represents the proportion of variance explained by your model.</li>\n",
    "    <li> Mean absolute error: It is the mean of the absolute value of the errors. This is the easiest of the metrics to understand since it’s just average error.</li>\n",
    "    <li> Mean Squared Error (MSE): Mean Squared Error (MSE) is the mean of the squared error. It’s more popular than Mean absolute error because the focus is geared more towards large errors. This is due to the squared term exponentially increasing larger errors in comparison to smaller ones.</li>\n",
    "    <li> Root Mean Squared Error (RMSE): This is the square root of the Mean Square Error. </li>\n",
    "  \n",
    "</ul>\n",
    "\n",
    "You can read more about the different metrics in ths Towards Data Science article: https://towardsdatascience.com/which-evaluation-metric-should-you-use-in-machine-learning-regression-problems-20cdaef258e"
   ]
  },
  {
   "cell_type": "code",
   "execution_count": 23,
   "metadata": {
    "scrolled": false
   },
   "outputs": [
    {
     "name": "stdout",
     "output_type": "stream",
     "text": [
      "Mean Square error: 6.51\n",
      "Root Mean Square error: 2.55\n",
      "Mean Absolute error: 2.13\n",
      "R2 score : 0.06\n"
     ]
    }
   ],
   "source": [
    "from sklearn.metrics import mean_squared_error, mean_absolute_error, r2_score\n",
    "from math import sqrt\n",
    "\n",
    "\n",
    "print(\"Mean Square error: %.2f\" %mean_squared_error(test_y, y_pred))\n",
    "print(\"Root Mean Square error: %.2f\" %sqrt(mean_squared_error(test_y, y_pred)))\n",
    "print(\"Mean Absolute error: %.2f\" %mean_absolute_error(test_y, y_pred))\n",
    "print(\"R2 score : %.2f\" %r2_score(test_y, y_pred))\n",
    "\n",
    "\n",
    "\n"
   ]
  },
  {
   "cell_type": "markdown",
   "metadata": {},
   "source": [
    "- The perfect regressor would provide an MSE of zero. The further we are from zero, the lower the accuracy of the model. \n",
    "- However, there are no 'right' and 'wrong' values for MSE. Our aim as desginers of ML pipelines is to try to reduce the error by: \n",
    "    - Careful feature selection\n",
    "    - Improved training/test splits (more on this in Day 3)\n",
    "    - Good hyperparameter tuning (more on this in Day 3)\n",
    "- This blog post has a nice introduction to MSE: https://www.bmc.com/blogs/mean-squared-error-r2-and-variance-in-regression-analysis/"
   ]
  },
  {
   "cell_type": "markdown",
   "metadata": {},
   "source": [
    "##### Feature Importance\n",
    "- We can also plot the feature importance to understand the contribution of the individual faetures to the overall regression. "
   ]
  },
  {
   "cell_type": "code",
   "execution_count": 24,
   "metadata": {
    "scrolled": true
   },
   "outputs": [
    {
     "data": {
      "image/png": "[encoded data removed]",
      "text/plain": [
       "<Figure size 432x288 with 1 Axes>"
      ]
     },
     "metadata": {
      "needs_background": "light"
     },
     "output_type": "display_data"
    }
   ],
   "source": [
    "feature_importance_vector = rf_regressor.feature_importances_\n",
    "\n",
    "feature_names=septic_shock_regression_df.columns[[0,1,2,3,4,5,6,7,8]]\n",
    "\n",
    "plt.figure(1)\n",
    "plt.title('Feature Importances')\n",
    "plt.bar(range(len(feature_importance_vector)), feature_importance_vector)\n",
    "\n",
    "plt.xticks(range(len(feature_importance_vector)), feature_names, rotation='vertical')\n",
    "plt.ylabel('Relative Importance')\n",
    "plt.show()"
   ]
  },
  {
   "cell_type": "markdown",
   "metadata": {},
   "source": [
    "##### Visualise regression via plots\n",
    "- Let's plot the predicted vs the actual values of length of stay"
   ]
  },
  {
   "cell_type": "code",
   "execution_count": 25,
   "metadata": {
    "scrolled": false
   },
   "outputs": [
    {
     "name": "stderr",
     "output_type": "stream",
     "text": [
      "No handles with labels found to put in legend.\n"
     ]
    },
    {
     "data": {
      "text/plain": [
       "<matplotlib.legend.Legend at 0x12e5a0790>"
      ]
     },
     "execution_count": 25,
     "metadata": {},
     "output_type": "execute_result"
    },
    {
     "data": {
      "image/png": "[encoded data removed]",
      "text/plain": [
       "<Figure size 432x288 with 2 Axes>"
      ]
     },
     "metadata": {
      "needs_background": "light"
     },
     "output_type": "display_data"
    }
   ],
   "source": [
    "\n",
    "#fig, ax = plt.subplots(ncols=2, figsize=(10,4))\n",
    "fig, ax = plt.subplots(1,2)\n",
    "fig.suptitle('Actual and Predicted Hospital Length of Stays')\n",
    "ax[0].plot(range(0,len(test_y)), test_y, 'bo', label = 'Actual')\n",
    "\n",
    "ax[0].set(xlabel='Admission', ylabel='Actual Length of Stay')\n",
    "\n",
    "\n",
    "# Plot the predicted values\n",
    "\n",
    "ax[1].plot(range(0,len(y_pred)), y_pred, 'ro')\n",
    "ax[1].set(xlabel='Admission', ylabel='Predicted Length of Stay')\n",
    "\n",
    "plt.legend()\n",
    "# Graph labels\n",
    "\n",
    "\n"
   ]
  },
  {
   "cell_type": "markdown",
   "metadata": {},
   "source": [
    "### Your Task: Including Less Features in Creating the regression model\n",
    "\n",
    "1. Re-create the regression model without the SOFA subcomponents from the featureset, i.e. the features are:\n",
    "    - age\n",
    "    - elixhauser_comorbidity\n",
    "    - sofa\n",
    "2. Is the performance better or worse? is it comparable? \n",
    "3. You can visualise the feature importance similarly to the above task. \n",
    "4. Can you plot the predicted and actual length of stays as int he example above?\n",
    "    "
   ]
  },
  {
   "cell_type": "code",
   "execution_count": 26,
   "metadata": {
    "scrolled": false
   },
   "outputs": [
    {
     "name": "stdout",
     "output_type": "stream",
     "text": [
      "(323,)\n",
      "(323,)\n",
      "Mean absolute error: 2.38\n",
      "Residual sum of squares (MSE): 8.66\n"
     ]
    },
    {
     "data": {
      "image/png": "[encoded data removed]",
      "text/plain": [
       "<Figure size 432x288 with 1 Axes>"
      ]
     },
     "metadata": {
      "needs_background": "light"
     },
     "output_type": "display_data"
    }
   ],
   "source": [
    "#### Your solution here ####\n",
    "\n",
    "rf_regressor2 = RandomForestRegressor(random_state = 42, n_estimators = 1000)\n",
    "\n",
    "train_x = np.asanyarray(train[['age','comorbidity_elixhauser','sofa']])\n",
    "train_y = (train[['los']]).values.ravel()\n",
    "\n",
    "test_x = np.asanyarray(test[['age','comorbidity_elixhauser','sofa']])\n",
    "test_y = (test[['los']]).values.ravel()\n",
    "\n",
    "rf_regressor2.fit(train_x, train_y)  \n",
    "y_pred= rf_regressor2.predict(test_x)  \n",
    "\n",
    "\n",
    "print(y_pred.shape)\n",
    "print(test_y.shape)\n",
    "\n",
    "\n",
    "print(\"Mean absolute error: %.2f\" % np.mean(np.absolute(y_pred - test_y)))\n",
    "print(\"Residual sum of squares (MSE): %.2f\" % np.mean((y_pred - test_y) ** 2))\n",
    "\n",
    "\n",
    "feature_importance_vector = rf_regressor2.feature_importances_\n",
    "\n",
    "feature_names=septic_shock_regression_df.columns[[0,1,2]]\n",
    "\n",
    "plt.figure(1)\n",
    "plt.title('Feature Importances')\n",
    "plt.bar(range(len(feature_importance_vector)), feature_importance_vector)\n",
    "\n",
    "plt.xticks(range(len(feature_importance_vector)), feature_names, rotation='vertical')\n",
    "plt.ylabel('Relative Importance')\n",
    "plt.show()"
   ]
  },
  {
   "cell_type": "code",
   "execution_count": 27,
   "metadata": {
    "scrolled": true
   },
   "outputs": [
    {
     "name": "stderr",
     "output_type": "stream",
     "text": [
      "No handles with labels found to put in legend.\n"
     ]
    },
    {
     "data": {
      "text/plain": [
       "<matplotlib.legend.Legend at 0x13539c880>"
      ]
     },
     "execution_count": 27,
     "metadata": {},
     "output_type": "execute_result"
    },
    {
     "data": {
      "image/png": "[encoded data removed]",
      "text/plain": [
       "<Figure size 432x288 with 2 Axes>"
      ]
     },
     "metadata": {
      "needs_background": "light"
     },
     "output_type": "display_data"
    }
   ],
   "source": [
    "\n",
    "#fig, ax = plt.subplots(ncols=2, figsize=(10,4))\n",
    "fig, ax = plt.subplots(1,2)\n",
    "fig.suptitle('Actual and Predicted Hospital Length of Stays')\n",
    "ax[0].plot(range(0,len(test_y)), test_y, 'bo', label = 'Actual')\n",
    "\n",
    "ax[0].set(xlabel='Admission', ylabel='Actual Length of Stay')\n",
    "\n",
    "\n",
    "# Plot the predicted values\n",
    "\n",
    "ax[1].plot(range(0,len(y_pred)), y_pred, 'ro')\n",
    "ax[1].set(xlabel='Admission', ylabel='Predicted Length of Stay')\n",
    "\n",
    "plt.legend()\n",
    "# Graph labels\n",
    "\n",
    "\n",
    "\n"
   ]
  },
  {
   "cell_type": "code",
   "execution_count": null,
   "metadata": {},
   "outputs": [],
   "source": []
  },
  {
   "cell_type": "code",
   "execution_count": null,
   "metadata": {},
   "outputs": [],
   "source": []
  }
 ],
 "metadata": {
  "kernelspec": {
   "display_name": "Python 3",
   "language": "python",
   "name": "python3"
  },
  "language_info": {
   "codemirror_mode": {
    "name": "ipython",
    "version": 3
   },
   "file_extension": ".py",
   "mimetype": "text/x-python",
   "name": "python",
   "nbconvert_exporter": "python",
   "pygments_lexer": "ipython3",
   "version": "3.8.5"
  }
 },
 "nbformat": 4,
 "nbformat_minor": 2
}
