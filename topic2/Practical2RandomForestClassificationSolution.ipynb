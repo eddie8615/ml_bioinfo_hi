{
 "cells": [
  {
   "cell_type": "markdown",
   "metadata": {},
   "source": [
    "\n",
    "## Classification Using Random Forests\n",
    "- Remember: Scikit-learn is organised in sublibraries (or modules):\n",
    "    - The sklearn.ensemble module contains all ensembel learners\n",
    "- Other 'new' imports\n",
    "    - pprint is short for 'pretty printing'. Enables formatting printed items\n",
    "        - pprint is useful for printing long objects for visual appeal.\n",
    "        - Documentation: https://docs.python.org/3/library/pprint.html\n",
    "- We will be performing a classification task using random forests: predicting in-hospital mortality"
   ]
  },
  {
   "cell_type": "code",
   "execution_count": 8,
   "metadata": {},
   "outputs": [],
   "source": [
    "import pandas as pd\n",
    "import numpy as np\n",
    "from pprint import pprint\n",
    "import matplotlib.pyplot as plt\n",
    "%matplotlib inline\n",
    "\n",
    "from sklearn.ensemble import RandomForestClassifier  \n",
    "\n",
    "from sklearn.model_selection import train_test_split\n",
    "from sklearn.metrics import confusion_matrix,plot_confusion_matrix, classification_report\n"
   ]
  },
  {
   "cell_type": "markdown",
   "metadata": {},
   "source": [
    "- importing dataset"
   ]
  },
  {
   "cell_type": "code",
   "execution_count": 9,
   "metadata": {},
   "outputs": [],
   "source": [
    "path_to_file =\"/Users/babylon/Documents/Teaching/ML/ML2021/Data/septic_shock.csv\"\n",
    "septic_shock_data = pd.read_csv(path_to_file, encoding='utf-8')"
   ]
  },
  {
   "cell_type": "code",
   "execution_count": 10,
   "metadata": {},
   "outputs": [
    {
     "data": {
      "text/html": [
       "<div>\n",
       "<style scoped>\n",
       "    .dataframe tbody tr th:only-of-type {\n",
       "        vertical-align: middle;\n",
       "    }\n",
       "\n",
       "    .dataframe tbody tr th {\n",
       "        vertical-align: top;\n",
       "    }\n",
       "\n",
       "    .dataframe thead th {\n",
       "        text-align: right;\n",
       "    }\n",
       "</style>\n",
       "<table border=\"1\" class=\"dataframe\">\n",
       "  <thead>\n",
       "    <tr style=\"text-align: right;\">\n",
       "      <th></th>\n",
       "      <th>age</th>\n",
       "      <th>gender</th>\n",
       "      <th>los</th>\n",
       "      <th>hospital_mortality</th>\n",
       "      <th>comorbidity_elixhauser</th>\n",
       "      <th>sofa</th>\n",
       "      <th>respiration</th>\n",
       "      <th>coagulation</th>\n",
       "      <th>liver</th>\n",
       "      <th>cardio</th>\n",
       "      <th>cns</th>\n",
       "      <th>renal</th>\n",
       "    </tr>\n",
       "  </thead>\n",
       "  <tbody>\n",
       "    <tr>\n",
       "      <th>0</th>\n",
       "      <td>28</td>\n",
       "      <td>1</td>\n",
       "      <td>6.083333</td>\n",
       "      <td>0</td>\n",
       "      <td>4</td>\n",
       "      <td>2</td>\n",
       "      <td>0</td>\n",
       "      <td>0</td>\n",
       "      <td>1</td>\n",
       "      <td>0</td>\n",
       "      <td>0</td>\n",
       "      <td>1</td>\n",
       "    </tr>\n",
       "    <tr>\n",
       "      <th>1</th>\n",
       "      <td>79</td>\n",
       "      <td>0</td>\n",
       "      <td>7.750000</td>\n",
       "      <td>0</td>\n",
       "      <td>3</td>\n",
       "      <td>2</td>\n",
       "      <td>0</td>\n",
       "      <td>0</td>\n",
       "      <td>0</td>\n",
       "      <td>2</td>\n",
       "      <td>0</td>\n",
       "      <td>0</td>\n",
       "    </tr>\n",
       "    <tr>\n",
       "      <th>2</th>\n",
       "      <td>42</td>\n",
       "      <td>1</td>\n",
       "      <td>17.041667</td>\n",
       "      <td>0</td>\n",
       "      <td>11</td>\n",
       "      <td>2</td>\n",
       "      <td>0</td>\n",
       "      <td>0</td>\n",
       "      <td>0</td>\n",
       "      <td>2</td>\n",
       "      <td>0</td>\n",
       "      <td>0</td>\n",
       "    </tr>\n",
       "    <tr>\n",
       "      <th>3</th>\n",
       "      <td>54</td>\n",
       "      <td>1</td>\n",
       "      <td>8.125000</td>\n",
       "      <td>0</td>\n",
       "      <td>0</td>\n",
       "      <td>2</td>\n",
       "      <td>0</td>\n",
       "      <td>1</td>\n",
       "      <td>0</td>\n",
       "      <td>0</td>\n",
       "      <td>1</td>\n",
       "      <td>0</td>\n",
       "    </tr>\n",
       "    <tr>\n",
       "      <th>4</th>\n",
       "      <td>66</td>\n",
       "      <td>0</td>\n",
       "      <td>12.000000</td>\n",
       "      <td>0</td>\n",
       "      <td>4</td>\n",
       "      <td>2</td>\n",
       "      <td>0</td>\n",
       "      <td>0</td>\n",
       "      <td>0</td>\n",
       "      <td>2</td>\n",
       "      <td>0</td>\n",
       "      <td>0</td>\n",
       "    </tr>\n",
       "  </tbody>\n",
       "</table>\n",
       "</div>"
      ],
      "text/plain": [
       "   age  gender        los  hospital_mortality  comorbidity_elixhauser  sofa  \\\n",
       "0   28       1   6.083333                   0                       4     2   \n",
       "1   79       0   7.750000                   0                       3     2   \n",
       "2   42       1  17.041667                   0                      11     2   \n",
       "3   54       1   8.125000                   0                       0     2   \n",
       "4   66       0  12.000000                   0                       4     2   \n",
       "\n",
       "   respiration  coagulation  liver  cardio  cns  renal  \n",
       "0            0            0      1       0    0      1  \n",
       "1            0            0      0       2    0      0  \n",
       "2            0            0      0       2    0      0  \n",
       "3            0            1      0       0    1      0  \n",
       "4            0            0      0       2    0      0  "
      ]
     },
     "execution_count": 10,
     "metadata": {},
     "output_type": "execute_result"
    }
   ],
   "source": [
    "septic_shock_data.head()"
   ]
  },
  {
   "cell_type": "markdown",
   "metadata": {},
   "source": [
    "### Classification using Random Forests: Predict Mortality\n",
    "- Recall that supervised learning aims to predict the outcome for unknown cases. \n",
    "- The life cycle of a supervised learning: \n",
    "    - Select the features that will be used for prediction. We will use the features we used in KNN:\n",
    "        - Age (column 0)\n",
    "        - Gender (column 1)\n",
    "        - comorbidity_elixhauser (column 4)\n",
    "        - Overall sofa (column 5)\n",
    "    - Decide on the outcome (in our case, it is hospital_mortality)\n",
    "    - Split the data into training and testing sets where: \n",
    "        - The training set will be used to train the algorithm\n",
    "        - The test set is assumed to contain cases with unknown outcomes.\n",
    "        - We will split the 6613 cases in our dataset into:\n",
    "            - 4000 cases to be used for training\n",
    "            - 2613 cases to be used for testing\n",
    "    - Evaluate the algorithm performance:\n",
    "        - Compare the original outcomes in the test set with the outcomes predicted by the algorithm.\n",
    "        - We can compute accuracy, sensitivity, specificity, etc....\n",
    "        - Each metric needs to be imported separately (i.e. add to: from sklearn.metrics import accuracy_score, confusion_matrix above)"
   ]
  },
  {
   "cell_type": "code",
   "execution_count": 11,
   "metadata": {
    "scrolled": true
   },
   "outputs": [],
   "source": [
    "#1. Split  the data into training & testing set. \n",
    "# Instead of splitting the data manually, we can use the train_test_split function in scikit learn.\n",
    "# We first have to designate the features/predictors (X) and outcomes (Y). \n",
    "\n",
    "X = septic_shock_data[['age','gender','comorbidity_elixhauser','sofa']]\n",
    "Y = septic_shock_data[['hospital_mortality']]\n",
    "\n",
    "#2. Call train_test_split. For more information about the parameters, look it up in the \n",
    "#scikit learn documentation here:\n",
    "#https://scikit-learn.org/stable/modules/generated/sklearn.model_selection.train_test_split.html\n",
    "\n",
    "x_train, x_test, y_train, y_test = train_test_split(X, Y, test_size=0.33)"
   ]
  },
  {
   "cell_type": "code",
   "execution_count": 12,
   "metadata": {
    "scrolled": false
   },
   "outputs": [
    {
     "name": "stdout",
     "output_type": "stream",
     "text": [
      "Parameters currently in use:\n",
      "\n",
      "{'bootstrap': True,\n",
      " 'ccp_alpha': 0.0,\n",
      " 'class_weight': None,\n",
      " 'criterion': 'gini',\n",
      " 'max_depth': None,\n",
      " 'max_features': 4,\n",
      " 'max_leaf_nodes': None,\n",
      " 'max_samples': None,\n",
      " 'min_impurity_decrease': 0.0,\n",
      " 'min_impurity_split': None,\n",
      " 'min_samples_leaf': 100,\n",
      " 'min_samples_split': 2,\n",
      " 'min_weight_fraction_leaf': 0.0,\n",
      " 'n_estimators': 1000,\n",
      " 'n_jobs': None,\n",
      " 'oob_score': False,\n",
      " 'random_state': 42,\n",
      " 'verbose': 0,\n",
      " 'warm_start': False}\n"
     ]
    }
   ],
   "source": [
    "#3. Create a Random Forest Classifer. Let's go with the following parameters\n",
    "    #- n_estimators (number of trees) = 1000\n",
    "    #- min_samples_leaf (minimum number of samples allowed per leaf node) = 100\n",
    "    #- max_features (maximum number of features used to create each decision tree) = 3\n",
    "    #- criterion (Splitting critera) = \"entropy\"\n",
    "classifier = RandomForestClassifier(random_state = 42, n_estimators = 1000, min_samples_leaf = 100, max_features=4)\n",
    "\n",
    "\n",
    "## We can print examine the parameters used by our current forest\n",
    "## Use pretty printer to have a more readable output (try normal print to see the difference)\n",
    "print('Parameters currently in use:\\n')\n",
    "pprint(classifier.get_params())"
   ]
  },
  {
   "cell_type": "code",
   "execution_count": 13,
   "metadata": {},
   "outputs": [],
   "source": [
    "#4. Fit the random forest classifer to the training data: \n",
    "## Note that fit() expects an array as its second parameters. y_train is a subset of the dataframe. We convert it \n",
    "## into an array using .values.ravel()\n",
    "classifier.fit(x_train, y_train.values.ravel())  \n",
    "\n",
    "#5. Predicting the Test Set result\n",
    "##Since our model is fitted to the training set, so now we can predict the test result. \n",
    "##For prediction, we will create a new prediction vector y_pred. Below is the code for it:\n",
    "\n",
    "y_pred= classifier.predict(x_test)  "
   ]
  },
  {
   "cell_type": "code",
   "execution_count": 14,
   "metadata": {
    "scrolled": true
   },
   "outputs": [
    {
     "name": "stdout",
     "output_type": "stream",
     "text": [
      "[[1285   69]\n",
      " [ 372  457]]\n"
     ]
    },
    {
     "data": {
      "image/png": "[encoded data removed]",
      "text/plain": [
       "<Figure size 432x288 with 2 Axes>"
      ]
     },
     "metadata": {
      "needs_background": "light"
     },
     "output_type": "display_data"
    }
   ],
   "source": [
    "#6. Creating the Confusion Matrix\n",
    "##Now we will create the confusion matrix to determine the correct and incorrect predictions.\n",
    "##Below is the code for it:\n",
    "\n",
    "#Creating the Confusion matrix  \n",
    "cm= confusion_matrix(y_test, y_pred)  \n",
    "\n",
    "#class_names contains the labels we would like to use. This can be ignored.\n",
    "class_names  =[\"Surived Hospital\", \"Died in Hospital\"]\n",
    "\n",
    "#You can see the documentation of the plotting function here: \n",
    "#https://scikit-learn.org/stable/modules/generated/sklearn.metrics.plot_confusion_matrix.html\n",
    "\n",
    "#You can also view auto-generated examples from the scikitlearn documentation: \n",
    "# https://scikit-learn.org/stable/auto_examples/model_selection/plot_confusion_matrix.html\n",
    "disp = plot_confusion_matrix(classifier, x_test, y_test, display_labels=class_names, cmap=plt.cm.Blues)\n",
    "\n",
    "disp.ax_.set_title(\"Confusion Matrix\")\n",
    "\n",
    "print(disp.confusion_matrix)\n",
    "\n",
    "plt.show()\n"
   ]
  },
  {
   "cell_type": "code",
   "execution_count": 15,
   "metadata": {},
   "outputs": [
    {
     "name": "stdout",
     "output_type": "stream",
     "text": [
      "              precision    recall  f1-score   support\n",
      "\n",
      "           0       0.78      0.95      0.85      1354\n",
      "           1       0.87      0.55      0.67       829\n",
      "\n",
      "    accuracy                           0.80      2183\n",
      "   macro avg       0.82      0.75      0.76      2183\n",
      "weighted avg       0.81      0.80      0.79      2183\n",
      "\n"
     ]
    }
   ],
   "source": [
    "#7. Classification report, includes accuracy\n",
    "print(classification_report(y_test, y_pred))"
   ]
  },
  {
   "cell_type": "markdown",
   "metadata": {},
   "source": [
    "### Reflection\n",
    "- The performance is a slight improvement over that of the decision tree. \n",
    "- We will tune this RF tomorrow!"
   ]
  },
  {
   "cell_type": "markdown",
   "metadata": {},
   "source": [
    "### Visualising Feature  Importance\n",
    "\n",
    "- Because RFs combine many trees, each of which performs classification on a subset of the features, then some features are evidently better than others in predicting the outcomes.\n",
    "    - The feature importance scores 'ranks' features based on their contribution to the overall classificatio\n",
    "    - Useful for 'explaining' the predictions made by the forest, since RFs are not as visually accessible as decision trees. \n",
    "    - Documentation: https://scikit-learn.org/stable/modules/generated/sklearn.ensemble.RandomForestClassifier.html#sklearn.ensemble.RandomForestClassifier.feature_importances_"
   ]
  },
  {
   "cell_type": "code",
   "execution_count": 16,
   "metadata": {
    "scrolled": true
   },
   "outputs": [
    {
     "name": "stdout",
     "output_type": "stream",
     "text": [
      "array([0.05737147, 0.00272025, 0.71954299, 0.22036529])\n"
     ]
    },
    {
     "data": {
      "image/png": "[encoded data removed]",
      "text/plain": [
       "<Figure size 432x288 with 1 Axes>"
      ]
     },
     "metadata": {
      "needs_background": "light"
     },
     "output_type": "display_data"
    }
   ],
   "source": [
    "feature_importance_vector = classifier.feature_importances_\n",
    "pprint(feature_importance_vector)\n",
    "\n",
    "feature_names=septic_shock_data.columns[[0,1,4,5]]\n",
    "\n",
    "plt.figure(1)\n",
    "plt.title('Feature Importances')\n",
    "plt.bar(range(len(feature_importance_vector)), feature_importance_vector)\n",
    "\n",
    "plt.xticks(range(len(feature_importance_vector)), feature_names)\n",
    "plt.ylabel('Relative Importance')\n",
    "plt.show()"
   ]
  },
  {
   "cell_type": "markdown",
   "metadata": {},
   "source": [
    "- age and gender did not have much say on the performance of the classification. \n",
    "- Let's try to re-run the classifier by making use of the other features we have (the SOFA subscores)"
   ]
  },
  {
   "cell_type": "markdown",
   "metadata": {},
   "source": [
    "### Task 1: Re-running the classifier\n",
    "- Re-run the training and testing blocks of this practical a few times (3-5 times). \n",
    "    - Does the performance vary accross runs?"
   ]
  },
  {
   "cell_type": "markdown",
   "metadata": {},
   "source": [
    "### Answer:\n",
    " - Yes!\n",
    " - It is therefore important to employ a 'stable' training/testing strategy to obtain a true estimate of the performance.\n",
    " - This is one of tomorrow's topics!"
   ]
  },
  {
   "cell_type": "markdown",
   "metadata": {},
   "source": [
    "### Task 2: Including More Features in Creating the classifier\n",
    "\n",
    "1. Create a new random forest classifier (call it: classifier_specific) using the following:\n",
    "    - Features: re-create X to include the columns: respiration, coagulation, liver, renal, cardio, cns\n",
    "    - Parameters: \n",
    "        - n_estimators (number of trees) = 10000\n",
    "        - criterion=\"entropy\"\n",
    "2. Why is the new classifier much slower? What does each of the parameters achieve? have the added features changed the performance? there is a discussion thread waiting for your opinion: \n",
    "    - Discussion thread title: Day 2: Reflection on Random Forest Parameters\n",
    "    - Link: https://keats.kcl.ac.uk/mod/forum/discuss.php?d=262284\n",
    "3. You can visualise the feature importance similarly to the above task. \n",
    "    "
   ]
  },
  {
   "cell_type": "code",
   "execution_count": 23,
   "metadata": {
    "scrolled": true
   },
   "outputs": [
    {
     "name": "stdout",
     "output_type": "stream",
     "text": [
      "array([0.02741237, 0.00173948, 0.61472766, 0.09929491, 0.00321093,\n",
      "       0.0048148 , 0.00355499, 0.17288629, 0.06980789, 0.00255068])\n"
     ]
    },
    {
     "data": {
      "image/png": "[encoded data removed]",
      "text/plain": [
       "<Figure size 432x288 with 1 Axes>"
      ]
     },
     "metadata": {
      "needs_background": "light"
     },
     "output_type": "display_data"
    }
   ],
   "source": [
    "#### Your solution here ####\n",
    "\n",
    "X = septic_shock_data[['age','gender','comorbidity_elixhauser','sofa','respiration','coagulation','liver','renal','cardio','cns']]\n",
    "Y = septic_shock_data[['hospital_mortality']]\n",
    "\n",
    "#2. Call train_test_split. For more information about the parameters, look it up in the \n",
    "#scikit learn documentation here:\n",
    "#https://scikit-learn.org/stable/modules/generated/sklearn.model_selection.train_test_split.html\n",
    "\n",
    "x_train, x_test, y_train, y_test = train_test_split(X, Y, test_size=0.33)\n",
    "classifier_specific= RandomForestClassifier(n_estimators= 10000,min_samples_leaf=100, max_features=7, criterion=\"entropy\")  \n",
    "classifier_specific.fit(x_train, y_train.values.ravel())  \n",
    "\n",
    "y_pred= classifier_specific.predict(x_test)  \n",
    "\n",
    "feature_importance_vector = classifier_specific.feature_importances_\n",
    "pprint(feature_importance_vector)\n",
    "\n",
    "feature_names=septic_shock_data.columns[[0,1,4,5,6,7,8,9,10,11]]\n",
    "\n",
    "plt.figure(1)\n",
    "plt.title('Feature Importances')\n",
    "plt.bar(range(len(feature_importance_vector)), feature_importance_vector)\n",
    "\n",
    "##note: because there are many 'ticks' on the x-axis, we changed the orientation of the text to 'vertical'\n",
    "##for visual clarity\n",
    "plt.xticks(range(len(feature_importance_vector)), feature_names, rotation='vertical')\n",
    "plt.ylabel('Relative Importance')\n",
    "plt.show()"
   ]
  },
  {
   "cell_type": "code",
   "execution_count": 24,
   "metadata": {
    "scrolled": false
   },
   "outputs": [
    {
     "name": "stdout",
     "output_type": "stream",
     "text": [
      "              precision    recall  f1-score   support\n",
      "\n",
      "           0       0.81      0.94      0.87      1394\n",
      "           1       0.86      0.62      0.72       789\n",
      "\n",
      "    accuracy                           0.83      2183\n",
      "   macro avg       0.84      0.78      0.80      2183\n",
      "weighted avg       0.83      0.83      0.82      2183\n",
      "\n"
     ]
    }
   ],
   "source": [
    "print(classification_report(y_test, y_pred))"
   ]
  },
  {
   "cell_type": "code",
   "execution_count": null,
   "metadata": {},
   "outputs": [],
   "source": []
  },
  {
   "cell_type": "code",
   "execution_count": null,
   "metadata": {},
   "outputs": [],
   "source": []
  },
  {
   "cell_type": "code",
   "execution_count": null,
   "metadata": {},
   "outputs": [],
   "source": []
  }
 ],
 "metadata": {
  "kernelspec": {
   "display_name": "Python 3",
   "language": "python",
   "name": "python3"
  },
  "language_info": {
   "codemirror_mode": {
    "name": "ipython",
    "version": 3
   },
   "file_extension": ".py",
   "mimetype": "text/x-python",
   "name": "python",
   "nbconvert_exporter": "python",
   "pygments_lexer": "ipython3",
   "version": "3.8.5"
  }
 },
 "nbformat": 4,
 "nbformat_minor": 2
}
