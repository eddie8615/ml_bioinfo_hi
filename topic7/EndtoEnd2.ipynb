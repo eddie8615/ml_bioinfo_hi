{
 "cells": [
  {
   "cell_type": "markdown",
   "metadata": {},
   "source": [
    "<h1> End-to-end Example of a Machine Learning Pipeline for Imbalanced Data - Part II </h1>\n",
    "\n",
    "Now that we have imputed and selected a 'potential' model, let's build on it using the properties of our data. \n",
    "\n",
    "<h1>Table of contents</h1>\n",
    "\n",
    "<div class=\"alert alert-block alert-info\" style=\"margin-top: 20px\">\n",
    "    <ol>\n",
    "        <li><a href=\"#read\">Reading and examining the data</a></li>\n",
    "        <li><a href=\"#imbalance\">'Scope out' different techniques for handling imbalance </a></li>\n",
    "        <li><a href=\"#tune\">Tune the hyperparameters for the selected approach</a></li>\n",
    "        <li><a href=\"#validate\">Cross-validate to establish confidence</a></li>\n",
    "    </ol>\n",
    "</div>\n",
    "<br>\n",
    "<hr>"
   ]
  },
  {
   "cell_type": "markdown",
   "metadata": {},
   "source": [
    "<h2 id=\"read\">Reading and examining the data</h2>\n"
   ]
  },
  {
   "cell_type": "code",
   "execution_count": 243,
   "metadata": {},
   "outputs": [],
   "source": [
    "import pandas as pd\n",
    "\n",
    "path_to_file =\"/Users/babylon/Documents/Teaching/ML/ML2022/Week2/FavouriteData.csv\"\n",
    "pima_data = pd.read_csv(path_to_file, encoding='utf-8')"
   ]
  },
  {
   "cell_type": "markdown",
   "metadata": {},
   "source": [
    "Double check that we have the scaled & imputed dataset"
   ]
  },
  {
   "cell_type": "code",
   "execution_count": 244,
   "metadata": {
    "scrolled": true
   },
   "outputs": [
    {
     "data": {
      "text/html": [
       "<div>\n",
       "<style scoped>\n",
       "    .dataframe tbody tr th:only-of-type {\n",
       "        vertical-align: middle;\n",
       "    }\n",
       "\n",
       "    .dataframe tbody tr th {\n",
       "        vertical-align: top;\n",
       "    }\n",
       "\n",
       "    .dataframe thead th {\n",
       "        text-align: right;\n",
       "    }\n",
       "</style>\n",
       "<table border=\"1\" class=\"dataframe\">\n",
       "  <thead>\n",
       "    <tr style=\"text-align: right;\">\n",
       "      <th></th>\n",
       "      <th>Pregnancies</th>\n",
       "      <th>Glucose</th>\n",
       "      <th>BloodPressure</th>\n",
       "      <th>SkinThickness</th>\n",
       "      <th>Insulin</th>\n",
       "      <th>BMI</th>\n",
       "      <th>DiabetesPedigreeFunction</th>\n",
       "      <th>Age</th>\n",
       "      <th>Outcome</th>\n",
       "    </tr>\n",
       "  </thead>\n",
       "  <tbody>\n",
       "    <tr>\n",
       "      <th>0</th>\n",
       "      <td>0.468243</td>\n",
       "      <td>0.862287</td>\n",
       "      <td>-0.032746</td>\n",
       "      <td>0.558557</td>\n",
       "      <td>-0.072061</td>\n",
       "      <td>0.165097</td>\n",
       "      <td>0.468492</td>\n",
       "      <td>1.425995</td>\n",
       "      <td>1</td>\n",
       "    </tr>\n",
       "    <tr>\n",
       "      <th>1</th>\n",
       "      <td>-1.087043</td>\n",
       "      <td>-1.202229</td>\n",
       "      <td>-0.517645</td>\n",
       "      <td>-0.014657</td>\n",
       "      <td>-0.893978</td>\n",
       "      <td>-0.846404</td>\n",
       "      <td>-0.365061</td>\n",
       "      <td>-0.190672</td>\n",
       "      <td>0</td>\n",
       "    </tr>\n",
       "    <tr>\n",
       "      <th>2</th>\n",
       "      <td>1.090358</td>\n",
       "      <td>2.009241</td>\n",
       "      <td>-0.679278</td>\n",
       "      <td>0.797396</td>\n",
       "      <td>0.606548</td>\n",
       "      <td>-1.323254</td>\n",
       "      <td>0.604397</td>\n",
       "      <td>-0.105584</td>\n",
       "      <td>1</td>\n",
       "    </tr>\n",
       "    <tr>\n",
       "      <th>3</th>\n",
       "      <td>-1.087043</td>\n",
       "      <td>-1.071148</td>\n",
       "      <td>-0.517645</td>\n",
       "      <td>-0.587871</td>\n",
       "      <td>-0.518847</td>\n",
       "      <td>-0.629654</td>\n",
       "      <td>-0.920763</td>\n",
       "      <td>-1.041549</td>\n",
       "      <td>0</td>\n",
       "    </tr>\n",
       "    <tr>\n",
       "      <th>4</th>\n",
       "      <td>-0.775986</td>\n",
       "      <td>0.501816</td>\n",
       "      <td>-2.618874</td>\n",
       "      <td>0.558557</td>\n",
       "      <td>0.104968</td>\n",
       "      <td>1.537847</td>\n",
       "      <td>5.484909</td>\n",
       "      <td>-0.020496</td>\n",
       "      <td>1</td>\n",
       "    </tr>\n",
       "  </tbody>\n",
       "</table>\n",
       "</div>"
      ],
      "text/plain": [
       "   Pregnancies   Glucose  BloodPressure  SkinThickness   Insulin       BMI  \\\n",
       "0     0.468243  0.862287      -0.032746       0.558557 -0.072061  0.165097   \n",
       "1    -1.087043 -1.202229      -0.517645      -0.014657 -0.893978 -0.846404   \n",
       "2     1.090358  2.009241      -0.679278       0.797396  0.606548 -1.323254   \n",
       "3    -1.087043 -1.071148      -0.517645      -0.587871 -0.518847 -0.629654   \n",
       "4    -0.775986  0.501816      -2.618874       0.558557  0.104968  1.537847   \n",
       "\n",
       "   DiabetesPedigreeFunction       Age  Outcome  \n",
       "0                  0.468492  1.425995        1  \n",
       "1                 -0.365061 -0.190672        0  \n",
       "2                  0.604397 -0.105584        1  \n",
       "3                 -0.920763 -1.041549        0  \n",
       "4                  5.484909 -0.020496        1  "
      ]
     },
     "execution_count": 244,
     "metadata": {},
     "output_type": "execute_result"
    }
   ],
   "source": [
    "pima_data.head()"
   ]
  },
  {
   "cell_type": "code",
   "execution_count": 245,
   "metadata": {
    "scrolled": false
   },
   "outputs": [
    {
     "data": {
      "text/html": [
       "<div>\n",
       "<style scoped>\n",
       "    .dataframe tbody tr th:only-of-type {\n",
       "        vertical-align: middle;\n",
       "    }\n",
       "\n",
       "    .dataframe tbody tr th {\n",
       "        vertical-align: top;\n",
       "    }\n",
       "\n",
       "    .dataframe thead th {\n",
       "        text-align: right;\n",
       "    }\n",
       "</style>\n",
       "<table border=\"1\" class=\"dataframe\">\n",
       "  <thead>\n",
       "    <tr style=\"text-align: right;\">\n",
       "      <th></th>\n",
       "      <th>Pregnancies</th>\n",
       "      <th>Glucose</th>\n",
       "      <th>BloodPressure</th>\n",
       "      <th>SkinThickness</th>\n",
       "      <th>Insulin</th>\n",
       "      <th>BMI</th>\n",
       "      <th>DiabetesPedigreeFunction</th>\n",
       "      <th>Age</th>\n",
       "      <th>Outcome</th>\n",
       "    </tr>\n",
       "  </thead>\n",
       "  <tbody>\n",
       "    <tr>\n",
       "      <th>count</th>\n",
       "      <td>768.000000</td>\n",
       "      <td>768.000000</td>\n",
       "      <td>768.000000</td>\n",
       "      <td>768.000000</td>\n",
       "      <td>768.000000</td>\n",
       "      <td>768.000000</td>\n",
       "      <td>7.680000e+02</td>\n",
       "      <td>7.680000e+02</td>\n",
       "      <td>768.000000</td>\n",
       "    </tr>\n",
       "    <tr>\n",
       "      <th>mean</th>\n",
       "      <td>-0.028112</td>\n",
       "      <td>-0.003560</td>\n",
       "      <td>-0.000072</td>\n",
       "      <td>-0.009868</td>\n",
       "      <td>-0.023962</td>\n",
       "      <td>-0.000401</td>\n",
       "      <td>2.451743e-16</td>\n",
       "      <td>1.838807e-16</td>\n",
       "      <td>0.348958</td>\n",
       "    </tr>\n",
       "    <tr>\n",
       "      <th>std</th>\n",
       "      <td>0.958000</td>\n",
       "      <td>0.999097</td>\n",
       "      <td>0.990833</td>\n",
       "      <td>0.935252</td>\n",
       "      <td>0.880537</td>\n",
       "      <td>0.995225</td>\n",
       "      <td>1.000652e+00</td>\n",
       "      <td>1.000652e+00</td>\n",
       "      <td>0.476951</td>\n",
       "    </tr>\n",
       "    <tr>\n",
       "      <th>min</th>\n",
       "      <td>-1.087043</td>\n",
       "      <td>-2.545803</td>\n",
       "      <td>-3.911938</td>\n",
       "      <td>-2.116442</td>\n",
       "      <td>-1.193241</td>\n",
       "      <td>-2.060204</td>\n",
       "      <td>-1.189553e+00</td>\n",
       "      <td>-1.041549e+00</td>\n",
       "      <td>0.000000</td>\n",
       "    </tr>\n",
       "    <tr>\n",
       "      <th>25%</th>\n",
       "      <td>-0.775986</td>\n",
       "      <td>-0.743447</td>\n",
       "      <td>-0.679278</td>\n",
       "      <td>-0.683407</td>\n",
       "      <td>-0.613684</td>\n",
       "      <td>-0.716354</td>\n",
       "      <td>-6.889685e-01</td>\n",
       "      <td>-7.862862e-01</td>\n",
       "      <td>0.000000</td>\n",
       "    </tr>\n",
       "    <tr>\n",
       "      <th>50%</th>\n",
       "      <td>-0.153872</td>\n",
       "      <td>-0.153586</td>\n",
       "      <td>-0.032746</td>\n",
       "      <td>-0.014657</td>\n",
       "      <td>-0.249089</td>\n",
       "      <td>-0.022754</td>\n",
       "      <td>-3.001282e-01</td>\n",
       "      <td>-3.608474e-01</td>\n",
       "      <td>0.000000</td>\n",
       "    </tr>\n",
       "    <tr>\n",
       "      <th>75%</th>\n",
       "      <td>0.468243</td>\n",
       "      <td>0.608319</td>\n",
       "      <td>0.613787</td>\n",
       "      <td>0.618267</td>\n",
       "      <td>0.290426</td>\n",
       "      <td>0.598597</td>\n",
       "      <td>4.662269e-01</td>\n",
       "      <td>6.602056e-01</td>\n",
       "      <td>1.000000</td>\n",
       "    </tr>\n",
       "    <tr>\n",
       "      <th>max</th>\n",
       "      <td>3.889873</td>\n",
       "      <td>2.533562</td>\n",
       "      <td>4.008080</td>\n",
       "      <td>6.672840</td>\n",
       "      <td>5.820456</td>\n",
       "      <td>5.005848</td>\n",
       "      <td>5.883565e+00</td>\n",
       "      <td>4.063716e+00</td>\n",
       "      <td>1.000000</td>\n",
       "    </tr>\n",
       "  </tbody>\n",
       "</table>\n",
       "</div>"
      ],
      "text/plain": [
       "       Pregnancies     Glucose  BloodPressure  SkinThickness     Insulin  \\\n",
       "count   768.000000  768.000000     768.000000     768.000000  768.000000   \n",
       "mean     -0.028112   -0.003560      -0.000072      -0.009868   -0.023962   \n",
       "std       0.958000    0.999097       0.990833       0.935252    0.880537   \n",
       "min      -1.087043   -2.545803      -3.911938      -2.116442   -1.193241   \n",
       "25%      -0.775986   -0.743447      -0.679278      -0.683407   -0.613684   \n",
       "50%      -0.153872   -0.153586      -0.032746      -0.014657   -0.249089   \n",
       "75%       0.468243    0.608319       0.613787       0.618267    0.290426   \n",
       "max       3.889873    2.533562       4.008080       6.672840    5.820456   \n",
       "\n",
       "              BMI  DiabetesPedigreeFunction           Age     Outcome  \n",
       "count  768.000000              7.680000e+02  7.680000e+02  768.000000  \n",
       "mean    -0.000401              2.451743e-16  1.838807e-16    0.348958  \n",
       "std      0.995225              1.000652e+00  1.000652e+00    0.476951  \n",
       "min     -2.060204             -1.189553e+00 -1.041549e+00    0.000000  \n",
       "25%     -0.716354             -6.889685e-01 -7.862862e-01    0.000000  \n",
       "50%     -0.022754             -3.001282e-01 -3.608474e-01    0.000000  \n",
       "75%      0.598597              4.662269e-01  6.602056e-01    1.000000  \n",
       "max      5.005848              5.883565e+00  4.063716e+00    1.000000  "
      ]
     },
     "execution_count": 245,
     "metadata": {},
     "output_type": "execute_result"
    }
   ],
   "source": [
    "pima_data.describe()"
   ]
  },
  {
   "cell_type": "markdown",
   "metadata": {},
   "source": [
    "Construct X and y (I will call X, X_original as I will be updating it as the practical goes on)"
   ]
  },
  {
   "cell_type": "code",
   "execution_count": 246,
   "metadata": {},
   "outputs": [],
   "source": [
    "X_original = pima_data[[\"Pregnancies\",\"Glucose\",\"BloodPressure\",\"SkinThickness\",\"Insulin\",\"BMI\",\"DiabetesPedigreeFunction\",\"Age\"]]\n",
    "y = pima_data[\"Outcome\"]\n"
   ]
  },
  {
   "cell_type": "markdown",
   "metadata": {},
   "source": [
    "- Let's examine the distribution of the outcome y\n"
   ]
  },
  {
   "cell_type": "markdown",
   "metadata": {},
   "source": [
    "<b> Your Task: </b>\n",
    "\n",
    "    - As in previous practicals, plot a pie chart to show the distribution of the outcome y. \n",
    "    - Guidance: \n",
    "        - y.value_count() gets you the total count of each possible y value. \n",
    "        - Here's an example from matplot lib to help you get started (if you don't want to look at previous practicals): \n",
    "            - Link: https://matplotlib.org/3.1.1/gallery/pie_and_polar_charts/pie_features.html\n",
    "            - You don't have to use explode or axes as the example does, because we're plotting a simple chart. \n",
    "    "
   ]
  },
  {
   "cell_type": "code",
   "execution_count": 1,
   "metadata": {
    "scrolled": false
   },
   "outputs": [],
   "source": [
    "## Your solution here ##\n"
   ]
  },
  {
   "cell_type": "markdown",
   "metadata": {},
   "source": [
    "- Note that if you don't want to plot, you can always use counter to give you an idea as in below: "
   ]
  },
  {
   "cell_type": "code",
   "execution_count": 248,
   "metadata": {},
   "outputs": [
    {
     "name": "stdout",
     "output_type": "stream",
     "text": [
      "Counter({0: 500, 1: 268})\n"
     ]
    }
   ],
   "source": [
    "##check the size of the data: \n",
    "from collections import Counter \n",
    "counter = Counter(y)\n",
    "print(counter)\n"
   ]
  },
  {
   "cell_type": "markdown",
   "metadata": {},
   "source": [
    "- Let's also recap our favourite model from the previous practical \n",
    "- You can also save this model, more on this later. "
   ]
  },
  {
   "cell_type": "code",
   "execution_count": 249,
   "metadata": {
    "scrolled": true
   },
   "outputs": [
    {
     "name": "stdout",
     "output_type": "stream",
     "text": [
      " Classification report of RF using KNN Imputation : \n",
      "              precision    recall  f1-score   support\n",
      "\n",
      "           0       0.83      0.82      0.82        99\n",
      "           1       0.68      0.69      0.68        55\n",
      "\n",
      "    accuracy                           0.77       154\n",
      "   macro avg       0.75      0.75      0.75       154\n",
      "weighted avg       0.77      0.77      0.77       154\n",
      "\n"
     ]
    }
   ],
   "source": [
    "from sklearn.ensemble import RandomForestClassifier\n",
    "from sklearn.model_selection import train_test_split\n",
    "from sklearn import metrics\n",
    "from sklearn.metrics import classification_report\n",
    "\n",
    "X_train, X_test, y_train, y_test = train_test_split(X_original, y, test_size = 0.2, random_state = 42)\n",
    "\n",
    "#Feed data into Random Forest Algorithm\n",
    "clf1 = RandomForestClassifier(random_state=42)\n",
    "clf1.fit(X_train, y_train)\n",
    "y_pred = clf1.predict(X_test)\n",
    "\n",
    "#Check performance\n",
    "print(\" Classification report of RF using KNN Imputation : \")\n",
    "print(classification_report(y_test,y_pred))\n",
    "\n"
   ]
  },
  {
   "cell_type": "markdown",
   "metadata": {},
   "source": [
    "<h2 id=\"imbalance\">'Scope out' different techniques for handling imbalance </h2>\n",
    "\n",
    "- Now that we have: \n",
    "    1. A favourite classifer\n",
    "    2. Knowledge of the class imbalance\n",
    "- Let's try to improve our performance\n",
    "    - We care a lot about the minority class (Outcome = 1)\n",
    "    - Although the classifier's performance on the majority is okayish, we'd like to do better on the minority. \n"
   ]
  },
  {
   "cell_type": "markdown",
   "metadata": {},
   "source": [
    "<h3> Approach 1: Weighted Classification </h3> \n",
    "\n",
    "- Idea: inform the classifer that different classes have different weights. \n",
    "    - The classifier then assigns different penalty rations for misclassifying the different classes. \n",
    "    - The idea/hope is that if the classifier is penalised more when misclassifying the minority class, it will work harder to avoid this penalty. \n",
    "    \n",
    "- But how do we choose the class weights?\n",
    "- The class weighing can be defined multiple ways; for example:\n",
    "\n",
    "    - Domain expertise, determined by talking to subject matter experts.\n",
    "    - Tuning, determined by a hyperparameter search such as a grid search.\n",
    "    - Heuristic, specified using a general best practice.\n",
    "\n",
    "- A best practice for using the class weighting is to use the inverse of the class distribution present in the training dataset.\n",
    "        -We can use the counter to establish the weights. \n",
    "            - As the counter shows (below), the number of samples in the minority class is approximately half of the number of samples in the majority class\n",
    "\n",
    "\n",
    "    "
   ]
  },
  {
   "cell_type": "code",
   "execution_count": 250,
   "metadata": {},
   "outputs": [
    {
     "name": "stdout",
     "output_type": "stream",
     "text": [
      "Counter({0: 401, 1: 213})\n"
     ]
    }
   ],
   "source": [
    "from collections import Counter\n",
    "counter = Counter(y_train)\n",
    "print(counter)\n",
    "\n"
   ]
  },
  {
   "cell_type": "markdown",
   "metadata": {},
   "source": [
    "- With weighted classification, all you have to do is update the 'class_weight' parameter of the classifier. \n",
    "- class_weight takes a dictionary item, which we constructed based on the results of our counter"
   ]
  },
  {
   "cell_type": "code",
   "execution_count": 251,
   "metadata": {},
   "outputs": [
    {
     "name": "stdout",
     "output_type": "stream",
     "text": [
      " Classification report of RF using KNN Imputation and class weights : \n",
      "              precision    recall  f1-score   support\n",
      "\n",
      "           0       0.83      0.84      0.83        99\n",
      "           1       0.70      0.69      0.70        55\n",
      "\n",
      "    accuracy                           0.79       154\n",
      "   macro avg       0.77      0.76      0.77       154\n",
      "weighted avg       0.78      0.79      0.79       154\n",
      "\n"
     ]
    }
   ],
   "source": [
    "#class weights\n",
    "weights = {0:0.5, 1:1.0}\n",
    "#train-test split\n",
    "X_train, X_test, y_train, y_test = train_test_split(X_original, y, test_size = 0.2, random_state = 42)\n",
    "\n",
    "#Feed data into Random Forest Algorithm, note the class weight parameter!\n",
    "clf1 = RandomForestClassifier(class_weight = weights, random_state=42)\n",
    "clf1.fit(X_train, y_train)\n",
    "y_pred = clf1.predict(X_test)\n",
    "\n",
    "#Check performance\n",
    "print(\" Classification report of RF using KNN Imputation and class weights : \")\n",
    "print(classification_report(y_test,y_pred))\n",
    "\n"
   ]
  },
  {
   "cell_type": "markdown",
   "metadata": {},
   "source": [
    "- A minor improvement - can we do better? let's try other approaches"
   ]
  },
  {
   "cell_type": "markdown",
   "metadata": {},
   "source": [
    "<h3> Approach 2: SMOTE</h3> \n",
    "\n",
    "- There's a beautiful package called imblearn (imbalanced learning). \n",
    "- I highly encourage you to explore its documentation and get to know it better. \n",
    "- imblearn implements SMOTE (Synthetic Minority Oversampling TEchnique) is a very popular oversampling method that generates synthetic data from the minority class to match the number of samples in the majority class\n",
    "- imblearn documentation: https://imbalanced-learn.org/stable/\n",
    "- You may have to install it - as before, from your conda prompt: pip install imblear \n",
    "- I will help you in smoting your data, your job is to build the classifier and test it. "
   ]
  },
  {
   "cell_type": "code",
   "execution_count": 252,
   "metadata": {
    "scrolled": false
   },
   "outputs": [
    {
     "name": "stdout",
     "output_type": "stream",
     "text": [
      "Counter({0: 401, 1: 401})\n"
     ]
    }
   ],
   "source": [
    "import imblearn\n",
    "from imblearn.over_sampling import SMOTE\n",
    "\n",
    "X_train, X_test, y_train, y_test = train_test_split(X_original, y, test_size = 0.2, random_state = 42)\n",
    "\n",
    "oversample = SMOTE()\n",
    "X_train_smoted, y_train_smoted = oversample.fit_resample(X_train, y_train)\n",
    "\n",
    "#check the size of the data after SMOTing: \n",
    "counter = Counter(y_train_smoted)\n",
    "print(counter)\n"
   ]
  },
  {
   "cell_type": "markdown",
   "metadata": {},
   "source": [
    "They're equal :) \n"
   ]
  },
  {
   "cell_type": "markdown",
   "metadata": {},
   "source": [
    "<b> Your Task </b> \n",
    "- Build a new classifier, call it clf2\n",
    "- clf2 is trained on the smoted data (both X and y)\n",
    "- use it to predict y_pred for X_test\n",
    "- Output the classification report. "
   ]
  },
  {
   "cell_type": "code",
   "execution_count": 2,
   "metadata": {},
   "outputs": [],
   "source": [
    "#### Your solution here #####\n",
    "\n"
   ]
  },
  {
   "cell_type": "markdown",
   "metadata": {},
   "source": [
    "<h4> Approach 3: stratified sampling </h4> \n",
    "    "
   ]
  },
  {
   "cell_type": "code",
   "execution_count": 255,
   "metadata": {},
   "outputs": [
    {
     "name": "stdout",
     "output_type": "stream",
     "text": [
      " Classification report of RF using KNN Imputation and class weights : \n",
      "              precision    recall  f1-score   support\n",
      "\n",
      "           0       0.76      0.87      0.81       100\n",
      "           1       0.68      0.50      0.57        54\n",
      "\n",
      "    accuracy                           0.74       154\n",
      "   macro avg       0.72      0.69      0.69       154\n",
      "weighted avg       0.73      0.74      0.73       154\n",
      "\n"
     ]
    }
   ],
   "source": [
    "#class weights\n",
    "weights = {0:0.5, 1:1.0}\n",
    "#train-test split\n",
    "X_train, X_test, y_train, y_test = train_test_split(X_original, y, stratify=y, test_size = 0.2, random_state = 42)\n",
    "\n",
    "#Feed data into Random Forest Algorithm, note the class weight parameter!\n",
    "clf3 = RandomForestClassifier(class_weight = weights, random_state=42)\n",
    "clf3.fit(X_train, y_train)\n",
    "y_pred = clf3.predict(X_test)\n",
    "\n",
    "#Check performance\n",
    "print(\" Classification report of RF using KNN Imputation and class weights : \")\n",
    "print(classification_report(y_test,y_pred))\n"
   ]
  },
  {
   "cell_type": "markdown",
   "metadata": {},
   "source": [
    "<h4> Approach 4: combine over and undersampling </h4>\n",
    "\n",
    "- The imblearn library has a really nice feature called 'pipelin' \n",
    "    - https://imbalanced-learn.org/stable/references/generated/imblearn.pipeline.Pipeline.html\n",
    "- Pipeline allows you to combine multiple steps (in our case: smoting the minority and undersampling the majority)\n",
    "- Go through the steps of this code to undersatnd what it's doing"
   ]
  },
  {
   "cell_type": "code",
   "execution_count": 256,
   "metadata": {},
   "outputs": [
    {
     "name": "stdout",
     "output_type": "stream",
     "text": [
      " Classification report of RF with Over & Undersampling : \n",
      "              precision    recall  f1-score   support\n",
      "\n",
      "           0       0.83      0.76      0.79        99\n",
      "           1       0.62      0.73      0.67        55\n",
      "\n",
      "    accuracy                           0.75       154\n",
      "   macro avg       0.73      0.74      0.73       154\n",
      "weighted avg       0.76      0.75      0.75       154\n",
      "\n"
     ]
    }
   ],
   "source": [
    "from imblearn.over_sampling import SMOTE\n",
    "from imblearn.under_sampling import RandomUnderSampler\n",
    "from imblearn.pipeline import Pipeline\n",
    "\n",
    "X_train, X_test, y_train, y_test = train_test_split(X_original, y, test_size = 0.2, random_state = 42)\n",
    "\n",
    "model = RandomForestClassifier(random_state=42)\n",
    "over = SMOTE(sampling_strategy='minority')\n",
    "under = RandomUnderSampler(sampling_strategy='majority')\n",
    "\n",
    "steps = [('o', over), ('u', under)]\n",
    "pipeline = Pipeline(steps=steps)\n",
    "\n",
    "X_overunder, y_overunder = pipeline.fit_resample(X_train, y_train)\n",
    "\n",
    "from sklearn.model_selection import cross_val_score\n",
    "from sklearn.metrics import roc_auc_score\n",
    "from numpy import mean\n",
    "\n",
    "model.fit(X_overunder , y_overunder ) \n",
    "\n",
    "y_predicted = model.predict(X_test)\n",
    "print(\" Classification report of RF with Over & Undersampling : \")\n",
    "print(classification_report(y_test ,y_predicted))\n"
   ]
  },
  {
   "cell_type": "markdown",
   "metadata": {},
   "source": [
    "- Which classifier performed better?\n",
    "- In my case, it depended on the run (I ran all multiple times), but:\n",
    "    - the stratified model that uses class weights performed consistently badly. \n",
    "    - The combination of over and undersampling improved recall (on the minority class), but hindered precision. \n",
    "    - So, we'll proceed in selecting between weighted classification and smoting on its own\n",
    "- We'll deal with the issue of selecting which model using cross validation (choice between smoting and class weights)"
   ]
  },
  {
   "cell_type": "code",
   "execution_count": 257,
   "metadata": {},
   "outputs": [
    {
     "name": "stdout",
     "output_type": "stream",
     "text": [
      "              precision    recall  f1-score   support\n",
      "\n",
      "           0       0.83      0.84      0.83        99\n",
      "           1       0.70      0.69      0.70        55\n",
      "\n",
      "    accuracy                           0.79       154\n",
      "   macro avg       0.77      0.76      0.77       154\n",
      "weighted avg       0.78      0.79      0.79       154\n",
      "\n"
     ]
    }
   ],
   "source": [
    "\n",
    "from sklearn.model_selection import GridSearchCV, cross_val_score \n",
    "\n",
    "\n",
    "clf1 = RandomForestClassifier(class_weight = weights, random_state=42)\n",
    "##Ask me: why did we re-initialise the classifer, clf1??\n",
    "\n",
    "classifier_grid = GridSearchCV(estimator=clf1, param_grid ={}, cv=7)\n",
    "#### see how I left: param_grid empty, because we want to worry about hyperparmeter tuning later. \n",
    "#### param_grid is a mandatory argument, so I couldn't discard it alltogether. \n",
    "\n",
    "\n",
    "classifier_grid.fit(X_train, y_train)\n",
    "best_model1 = classifier_grid.best_estimator_\n",
    "y_pred= best_model1.predict(X_test)\n",
    "print(classification_report(y_test, y_pred))\n",
    "                    \n"
   ]
  },
  {
   "cell_type": "markdown",
   "metadata": {},
   "source": [
    "<b> Your Task: </b> Do the same for clf2 using X_smoted and y_smoted"
   ]
  },
  {
   "cell_type": "code",
   "execution_count": 3,
   "metadata": {},
   "outputs": [],
   "source": [
    "#### Your solution here #####\n"
   ]
  },
  {
   "cell_type": "markdown",
   "metadata": {},
   "source": [
    "- Let's plot variable importance to see if there's any  difference"
   ]
  },
  {
   "cell_type": "code",
   "execution_count": 230,
   "metadata": {
    "scrolled": false
   },
   "outputs": [
    {
     "data": {
      "image/png": "[encoded data removed]",
      "text/plain": [
       "<Figure size 432x288 with 2 Axes>"
      ]
     },
     "metadata": {
      "needs_background": "light"
     },
     "output_type": "display_data"
    }
   ],
   "source": [
    "import matplotlib.pyplot as plt\n",
    "\n",
    "fig, axes = plt.subplots(nrows=1, ncols=2)\n",
    "\n",
    "clf1_vector = best_model1.feature_importances_\n",
    "clf2_vector = best_model2.feature_importances_\n",
    "\n",
    "feature_names=X_original.columns\n",
    "\n",
    "# Set the ticks and ticklabels for all axes\n",
    "plt.setp(axes, xticks=range(len(clf1_vector)), xticklabels= clf1_vector)\n",
    "\n",
    "# Use the pyplot interface to change just one subplot...\n",
    "axes[0].bar(range(len(clf1_vector)), clf1_vector)\n",
    "axes[1].bar(range(len(clf2_vector)), clf2_vector)\n",
    "\n",
    "axes[0].set_xticklabels(feature_names, rotation='vertical' )\n",
    "axes[1].set_xticklabels(feature_names, rotation='vertical' )\n",
    "\n",
    "axes[0].set_title(' with Class Weights')\n",
    "axes[1].set_title(' With SMOTE')\n",
    "\n",
    "fig.tight_layout()\n",
    "plt.show()"
   ]
  },
  {
   "cell_type": "markdown",
   "metadata": {},
   "source": [
    "- It looks like using class weights provides a slightly more uniform distribution of variable importance\n",
    "- Let's see if selecting the most important variables makes a difference on performance\n",
    "- Let'see if we can further improve the model via feature selection\n"
   ]
  },
  {
   "cell_type": "markdown",
   "metadata": {},
   "source": [
    "- sklearn has a nice subpackage called SelectFromModel\n",
    "- The code below shows you how to use it. "
   ]
  },
  {
   "cell_type": "code",
   "execution_count": 231,
   "metadata": {
    "scrolled": true
   },
   "outputs": [
    {
     "name": "stdout",
     "output_type": "stream",
     "text": [
      "Glucose\n",
      "SkinThickness\n",
      "Insulin\n",
      "BMI\n",
      "DiabetesPedigreeFunction\n",
      "Age\n",
      " Classification report of RF using KNN Imputation, weighted classification AND feature selection  : \n",
      "              precision    recall  f1-score   support\n",
      "\n",
      "           0       0.82      0.82      0.82        99\n",
      "           1       0.67      0.67      0.67        55\n",
      "\n",
      "    accuracy                           0.77       154\n",
      "   macro avg       0.75      0.75      0.75       154\n",
      "weighted avg       0.77      0.77      0.77       154\n",
      "\n"
     ]
    }
   ],
   "source": [
    "from sklearn.feature_selection import SelectFromModel\n",
    "\n",
    "# Create a selector object that will use the random forest classifier to identify\n",
    "# features that have an importance of more than 0.10 (guestimating from the importance plots)\n",
    "\n",
    "sfm = SelectFromModel(best_model1, threshold=0.07)\n",
    "\n",
    "# Train the selector\n",
    "sfm.fit(X_train, y_train)\n",
    "feature_names=X_original.columns\n",
    "\n",
    "# Print the names of the most important features\n",
    "for feature_list_index in sfm.get_support(indices=True):\n",
    "    print(feature_names[feature_list_index])\n",
    "    \n",
    "    \n",
    "# Create A Data Subset With Only The Most Important Features\n",
    "\n",
    "# Transform the data to create a new dataset containing only the most important features\n",
    "# Note: We have to apply the transform to both the training X and test X data.\n",
    "X_important_train = sfm.transform(X_train)\n",
    "X_important_test = sfm.transform(X_test)\n",
    "\n",
    "clf_important = RandomForestClassifier(random_state=0, n_jobs=-1)\n",
    "\n",
    "# Train the new classifier on the new dataset containing the most important features\n",
    "clf_important.fit(X_important_train, y_train)\n",
    "\n",
    "y_pred = clf_important.predict(X_important_test)\n",
    "\n",
    "#Check performance\n",
    "print(\" Classification report of RF using KNN Imputation, weighted classification AND feature selection  : \")\n",
    "print(classification_report(y_test,y_pred))\n"
   ]
  },
  {
   "cell_type": "markdown",
   "metadata": {},
   "source": [
    "- In my case, the performance went down. \n",
    "- This is directly related to the fact that the importance of the features are more or less uniformly distributed. "
   ]
  },
  {
   "cell_type": "markdown",
   "metadata": {},
   "source": [
    "- Let's see if we can tune the hyperparameters of the best classifier so far (best_model1)"
   ]
  },
  {
   "cell_type": "code",
   "execution_count": 232,
   "metadata": {},
   "outputs": [],
   "source": [
    "from sklearn.model_selection import GridSearchCV, cross_val_score \n",
    "from pprint import pprint "
   ]
  },
  {
   "cell_type": "code",
   "execution_count": 233,
   "metadata": {
    "scrolled": true
   },
   "outputs": [
    {
     "name": "stdout",
     "output_type": "stream",
     "text": [
      "Parameters currently in use:\n",
      "\n",
      "{'bootstrap': True,\n",
      " 'ccp_alpha': 0.0,\n",
      " 'class_weight': {0: 0.5, 1: 1.0},\n",
      " 'criterion': 'gini',\n",
      " 'max_depth': None,\n",
      " 'max_features': 'auto',\n",
      " 'max_leaf_nodes': None,\n",
      " 'max_samples': None,\n",
      " 'min_impurity_decrease': 0.0,\n",
      " 'min_impurity_split': None,\n",
      " 'min_samples_leaf': 1,\n",
      " 'min_samples_split': 2,\n",
      " 'min_weight_fraction_leaf': 0.0,\n",
      " 'n_estimators': 100,\n",
      " 'n_jobs': None,\n",
      " 'oob_score': False,\n",
      " 'random_state': 42,\n",
      " 'verbose': 0,\n",
      " 'warm_start': False}\n"
     ]
    }
   ],
   "source": [
    "print('Parameters currently in use:\\n')\n",
    "pprint(best_model1.get_params())"
   ]
  },
  {
   "cell_type": "code",
   "execution_count": 234,
   "metadata": {},
   "outputs": [
    {
     "data": {
      "text/plain": [
       "GridSearchCV(cv=7, estimator=RandomForestClassifier(),\n",
       "             param_grid={'criterion': ['gini', 'entropy'],\n",
       "                         'max_features': [3, 5, 8],\n",
       "                         'min_samples_leaf': [1, 5, 20, 50],\n",
       "                         'n_estimators': [20, 60, 100, 200]})"
      ]
     },
     "execution_count": 234,
     "metadata": {},
     "output_type": "execute_result"
    }
   ],
   "source": [
    "parameter_grid = {\n",
    "            \"min_samples_leaf\": [1, 5, 20, 50],\n",
    "            'n_estimators': [20, 60, 100,200],\n",
    "             'max_features' : [3,5,8],\n",
    "            'criterion': ['gini', 'entropy']\n",
    "}\n",
    "\n",
    "classifier_grid = GridSearchCV(estimator=RandomForestClassifier(), param_grid=parameter_grid, cv=7)\n",
    "classifier_grid.fit(X_train, y_train)\n"
   ]
  },
  {
   "cell_type": "code",
   "execution_count": 235,
   "metadata": {
    "scrolled": false
   },
   "outputs": [
    {
     "name": "stdout",
     "output_type": "stream",
     "text": [
      " The best parameters found are: \n",
      "{'criterion': 'gini', 'max_features': 3, 'min_samples_leaf': 20, 'n_estimators': 20}\n"
     ]
    }
   ],
   "source": [
    "print(\" The best parameters found are: \")\n",
    "print(classifier_grid.best_params_)\n",
    "\n",
    "best_model = classifier_grid.best_estimator_"
   ]
  },
  {
   "cell_type": "code",
   "execution_count": 236,
   "metadata": {},
   "outputs": [],
   "source": [
    "y_pred= best_model.predict(X_test)"
   ]
  },
  {
   "cell_type": "code",
   "execution_count": 237,
   "metadata": {
    "scrolled": true
   },
   "outputs": [
    {
     "name": "stdout",
     "output_type": "stream",
     "text": [
      "              precision    recall  f1-score   support\n",
      "\n",
      "           0       0.81      0.83      0.82        99\n",
      "           1       0.68      0.65      0.67        55\n",
      "\n",
      "    accuracy                           0.77       154\n",
      "   macro avg       0.75      0.74      0.74       154\n",
      "weighted avg       0.76      0.77      0.77       154\n",
      "\n"
     ]
    }
   ],
   "source": [
    "\n",
    "print(classification_report(y_test, y_pred))"
   ]
  },
  {
   "cell_type": "markdown",
   "metadata": {},
   "source": [
    "<b> Your Task: </b> \n",
    "- Let's also tune the Smoted model, just to be sure"
   ]
  },
  {
   "cell_type": "code",
   "execution_count": 4,
   "metadata": {
    "scrolled": true
   },
   "outputs": [],
   "source": [
    "# # # Your solution here # # # "
   ]
  },
  {
   "cell_type": "markdown",
   "metadata": {},
   "source": [
    "<b> Final Step </b>\n",
    "-After all of the experiments, we need to make sure that the best model is robust.\n",
    "-  Cross validation achieved the robustness. The fact that precision and recall are comparable to accuracy gives us some confidence. \n",
    "- But hyperparameter tuning didn't do so well, so we'll just revert to best_model1 (which is weighted classification using CV):\n",
    "- Establish the confidence in the final model using Repeated Stratified Cross Validation (stratify the folds and repeat the experiments of cross validation). "
   ]
  },
  {
   "cell_type": "code",
   "execution_count": 258,
   "metadata": {
    "scrolled": true
   },
   "outputs": [
    {
     "name": "stdout",
     "output_type": "stream",
     "text": [
      "Mean Accuracy: 0.7543\n",
      "Mean Precision: 0.7345\n",
      "Mean Recall: 0.7101\n"
     ]
    }
   ],
   "source": [
    "# Define evaluation procedure (here we use Repeated Stratified K-Fold CV)\n",
    "cv_def=RepeatedStratifiedKFold(n_splits=10, n_repeats=3, random_state=1)\n",
    "\n",
    "scoring=['accuracy','precision_macro','recall_macro']\n",
    "\n",
    "final_scores = cross_validate(best_model1, X_original, y, scoring=scoring, cv=cv_def, n_jobs=-1)\n",
    "\n",
    "# summarize performance\n",
    "print('Mean Accuracy: %.4f' % np.mean(final_scores['test_accuracy']))\n",
    "print('Mean Precision: %.4f' % np.mean(final_scores['test_precision_macro']))\n",
    "print('Mean Recall: %.4f' % np.mean(final_scores['test_recall_macro']))\n"
   ]
  },
  {
   "cell_type": "markdown",
   "metadata": {},
   "source": [
    "<h2 id=\"save\">Saving the model</h2>\n",
    "- sklearn provdies a nice feature- enables saving the model. \n",
    "- This is how you re-use your models without having to retrain!\n",
    "- Let's save our model"
   ]
  },
  {
   "cell_type": "code",
   "execution_count": 260,
   "metadata": {},
   "outputs": [],
   "source": [
    "import pickle\n",
    "\n",
    "filename = 'BestModel.sav'\n",
    "pickle.dump(best_model1, open(filename, 'wb'))\n"
   ]
  },
  {
   "cell_type": "markdown",
   "metadata": {},
   "source": [
    "- You'll see your model int he current folder :) \n",
    "- You can load your model in future notebooks using pickle.load()\n",
    "- Read more here: https://machinelearningmastery.com/save-load-machine-learning-models-python-scikit-learn/"
   ]
  },
  {
   "cell_type": "code",
   "execution_count": null,
   "metadata": {},
   "outputs": [],
   "source": []
  }
 ],
 "metadata": {
  "kernelspec": {
   "display_name": "Python 3.8 (tensorflow)",
   "language": "python",
   "name": "tensorflow"
  },
  "language_info": {
   "codemirror_mode": {
    "name": "ipython",
    "version": 3
   },
   "file_extension": ".py",
   "mimetype": "text/x-python",
   "name": "python",
   "nbconvert_exporter": "python",
   "pygments_lexer": "ipython3",
   "version": "3.8.8"
  }
 },
 "nbformat": 4,
 "nbformat_minor": 4
}
