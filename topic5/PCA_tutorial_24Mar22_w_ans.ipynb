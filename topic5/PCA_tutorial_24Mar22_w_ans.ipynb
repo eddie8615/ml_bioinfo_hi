{
 "cells": [
  {
   "cell_type": "markdown",
   "metadata": {},
   "source": [
    "# <U> Practical Tutorial PCA</U>:\n",
    "\n",
    "- We are going to use Principal Component Analysis to reduce the dimensionality of a dataset. \n",
    "\n",
    "\n",
    "- Remember, three vital packages will be used throughout: \n",
    "    - Pandas for data wrangling\n",
    "    - Matplotlib for plotting\n",
    "    - Sklean for machine learning\n",
    "\n"
   ]
  },
  {
   "cell_type": "code",
   "execution_count": 2,
   "metadata": {},
   "outputs": [],
   "source": [
    "import pandas as pd\n",
    "import matplotlib.pyplot as plt\n",
    "from sklearn.decomposition import PCA\n",
    "from sklearn.svm import SVC\n",
    "from sklearn.preprocessing import StandardScaler"
   ]
  },
  {
   "cell_type": "markdown",
   "metadata": {},
   "source": [
    "# Before you begin\n",
    "\n",
    "- Make sure you know the full path to tumour_gene_data.csv and tumour_gene_labels.csv for your own computer."
   ]
  },
  {
   "cell_type": "code",
   "execution_count": 3,
   "metadata": {},
   "outputs": [],
   "source": [
    "# Upload the data\n",
    "tumour_gene_data = pd.read_csv('/Users/georgegifford/Dropbox/Teaching/PCA_practical/tumour_gene_data.csv', index_col=0)\n",
    "tumour_labels = pd.read_csv('/Users/georgegifford/Dropbox/Teaching/PCA_practical/tumour_gene_labels.csv', index_col=0)"
   ]
  },
  {
   "cell_type": "markdown",
   "metadata": {},
   "source": [
    "- When you've uploaded the data, quickly check the dimensionality of the dataset."
   ]
  },
  {
   "cell_type": "code",
   "execution_count": 4,
   "metadata": {},
   "outputs": [
    {
     "data": {
      "text/plain": [
       "(277, 20531)"
      ]
     },
     "execution_count": 4,
     "metadata": {},
     "output_type": "execute_result"
    }
   ],
   "source": [
    "# Check the dimensionality\n",
    "tumour_gene_data.shape"
   ]
  },
  {
   "cell_type": "markdown",
   "metadata": {},
   "source": [
    "- As you can see we have 277 instances and 20531 features."
   ]
  },
  {
   "cell_type": "markdown",
   "metadata": {},
   "source": [
    "# <U> Part 1: Dimensionality reduction with PCA</U>:\n",
    "\n",
    "- There are several ways to reduce the number of features in a dataset. One tool that is often used for highly dimensional datasets is Principal Comonponenet Analysis (PCA). Here we will apply PCA to our gene data.\n",
    "- First we should to scale our data to mean = 0 and variance = 1."
   ]
  },
  {
   "cell_type": "markdown",
   "metadata": {},
   "source": [
    "### Task 1: Scale the data using the sklearn StandardScaler() function and run a PCA model"
   ]
  },
  {
   "cell_type": "code",
   "execution_count": 5,
   "metadata": {},
   "outputs": [],
   "source": [
    "# Your code here!\n",
    "tumour_gene_data_scaled = StandardScaler().fit_transform(tumour_gene_data)"
   ]
  },
  {
   "cell_type": "markdown",
   "metadata": {},
   "source": [
    "- Now lets apply PCA to our dataset to return a dataset containing the PCA components."
   ]
  },
  {
   "cell_type": "code",
   "execution_count": 6,
   "metadata": {},
   "outputs": [],
   "source": [
    "# Create the PCA model with the desired number of components\n",
    "pca = PCA(n_components=100)\n",
    "\n",
    "# Apply PCA to the data and return the computed principal components\n",
    "tumour_gene_data_PCA = pca.fit_transform(tumour_gene_data_scaled)"
   ]
  },
  {
   "cell_type": "markdown",
   "metadata": {},
   "source": [
    "- Now let's check the dimensionality of the PCA transformed data."
   ]
  },
  {
   "cell_type": "code",
   "execution_count": 7,
   "metadata": {},
   "outputs": [
    {
     "data": {
      "text/plain": [
       "(277, 100)"
      ]
     },
     "execution_count": 7,
     "metadata": {},
     "output_type": "execute_result"
    }
   ],
   "source": [
    "# Your code here!\n",
    "# Check the PCA data dimensionality\n",
    "tumour_gene_data_PCA.shape"
   ]
  },
  {
   "cell_type": "markdown",
   "metadata": {},
   "source": [
    "- After applying PCA it is important to check how much variance is being explained by our prinicipal component loadings.\n",
    "- Let's have a look at this with a simple bar chart and the sum of variance explained across all principal components."
   ]
  },
  {
   "cell_type": "code",
   "execution_count": 8,
   "metadata": {},
   "outputs": [
    {
     "name": "stdout",
     "output_type": "stream",
     "text": [
      "Total variance explained =  82.02844020536446 %\n"
     ]
    },
    {
     "data": {
      "image/png": "[encoded data removed]",
      "text/plain": [
       "<Figure size 432x288 with 1 Axes>"
      ]
     },
     "metadata": {
      "needs_background": "light"
     },
     "output_type": "display_data"
    }
   ],
   "source": [
    "expl_var = pca.explained_variance_ratio_\n",
    "plt.bar(list(range(100)), expl_var)\n",
    "print('Total variance explained = ', sum(expl_var)*100, '%')"
   ]
  },
  {
   "cell_type": "markdown",
   "metadata": {},
   "source": [
    "##### <font color='blue'>Question: Why is it important to scale our data before applying PCA?</font>\n",
    "##### <font color='red'>PCA finds prinicpal components that are in the direction of maximum variance. Without scaling our data it is possible that 1 unit of variance in one feature would be different to 1 unit of variance in another feautre, which could bias our resulting principal components.</font>\n",
    "##### <font color='blue'>Question: What does the distribution of principal components show?</font>\n",
    "##### <font color='red'>The distribution of principal components shown above tells us that the first few principal components contain most of the variance.</font> \n",
    "##### "
   ]
  },
  {
   "cell_type": "markdown",
   "metadata": {},
   "source": [
    "### Task 2: Change the number of components included in the PCA and see how this changes the amount of variance explained"
   ]
  },
  {
   "cell_type": "code",
   "execution_count": 14,
   "metadata": {},
   "outputs": [
    {
     "name": "stdout",
     "output_type": "stream",
     "text": [
      "Total variance explained =  55.50151000455641 %\n"
     ]
    }
   ],
   "source": [
    "# Your code here!\n",
    "# Run a PCA with a different number of components and return the total variance explained (try between 2 and 300)\n",
    "pca = PCA(n_components= 20)\n",
    "tumour_gene_data_PCA = pca.fit_transform(tumour_gene_data_scaled)\n",
    "expl_var = pca.explained_variance_ratio_\n",
    "print('Total variance explained = ', sum(expl_var)*100, '%')"
   ]
  },
  {
   "cell_type": "markdown",
   "metadata": {},
   "source": [
    "##### <font color='blue'>Question: how many principal componenets can you create from the data?</font>\n",
    "##### <font color='red'>The maximum number of prinicipal components is the maximum number of features or sample size (whichever is smaller).</font> \n",
    "##### "
   ]
  },
  {
   "cell_type": "markdown",
   "metadata": {},
   "source": [
    "### Task 3: Having the data in lower dimensional space means we can plot it in 2d. Take the first two components of any PCA reduced dataset and see how they seperate into the two types of tumour with a scatter plot"
   ]
  },
  {
   "cell_type": "code",
   "execution_count": 15,
   "metadata": {},
   "outputs": [
    {
     "data": {
      "text/plain": [
       "<matplotlib.collections.PathCollection at 0x7fa5e27d4520>"
      ]
     },
     "execution_count": 15,
     "metadata": {},
     "output_type": "execute_result"
    },
    {
     "data": {
      "image/png": "[encoded data removed]",
      "text/plain": [
       "<Figure size 432x288 with 1 Axes>"
      ]
     },
     "metadata": {
      "needs_background": "light"
     },
     "output_type": "display_data"
    }
   ],
   "source": [
    "# Your code here! \n",
    "# Hint, here is a vector of colours that match the tumour labels\n",
    "label_colours = tumour_labels.Class.map({'PRAD': 'red', 'LUAD':'blue'})\n",
    "\n",
    "# Create a 2d scatterplot with one principal component on each axis and points coloured according\n",
    "# tumour labels\n",
    "pc1 = tumour_gene_data_PCA[:,0]\n",
    "pc2 = tumour_gene_data_PCA[:,1]\n",
    "plt.scatter(pc1, pc2, c = label_colours)"
   ]
  },
  {
   "cell_type": "markdown",
   "metadata": {},
   "source": [
    "##### <font color='blue'>Question: do you think a classifier based on the first two components would work well at predicting the tumour labels?</font>\n",
    "##### <font color='red'>It appears that our data seperates into two distinct clusters, so a classifer would work well in predicting our tumour labels if using the first two principal components as features.</font> \n",
    "##### "
   ]
  },
  {
   "cell_type": "markdown",
   "metadata": {},
   "source": [
    "# <U> Part 2: Classification and Dimensionality</U>:\n",
    "\n",
    "### Task 1: Let's see how a simple classifer performs on our data \n",
    "\n",
    "- Split the data into training (N = 177) and test data (N = 100). \n",
    "- Don't worry about cross validation for this practical.\n",
    "- Train the SVM classifier on the training data and use it to predict tumour type labels in the unseen test data."
   ]
  },
  {
   "cell_type": "code",
   "execution_count": 17,
   "metadata": {},
   "outputs": [
    {
     "name": "stdout",
     "output_type": "stream",
     "text": [
      "SVM classifier accuracy = 100.0 %\n"
     ]
    }
   ],
   "source": [
    "# Split data into training and test samples\n",
    "train = tumour_gene_data.iloc[:177,:]\n",
    "train_labels = tumour_labels.iloc[:177].Class\n",
    "\n",
    "test = tumour_gene_data.iloc[177:,:]\n",
    "test_labels = tumour_labels.iloc[177:].Class\n",
    "\n",
    "# Your code here!\n",
    "# Run an SVM classifier on the training data and predict the test data labels\n",
    "svm = SVC()\n",
    "svm.fit(train, train_labels)\n",
    "\n",
    "# Print the prediction accuracy\n",
    "print('SVM classifier accuracy =', sum(svm.predict(test) == test_labels) / len(test_labels) * 100, \"%\")"
   ]
  },
  {
   "cell_type": "markdown",
   "metadata": {},
   "source": [
    "- Your SVM prediction model should work perfectly! But what happens if we drastically reduce our training sample size? (Next task).\n",
    "\n",
    "### Task 2: Repeat the SVM classifier above with only 10 samples in the training dataset. "
   ]
  },
  {
   "cell_type": "code",
   "execution_count": 18,
   "metadata": {},
   "outputs": [
    {
     "name": "stdout",
     "output_type": "stream",
     "text": [
      "SVM classifier accuracy = 47.940074906367045 %\n"
     ]
    }
   ],
   "source": [
    "# Your code here!\n",
    "# Split the data into training and test samples, with only the first 10 samples in the training dataset\n",
    "train = tumour_gene_data.iloc[:10,:]\n",
    "train_labels = tumour_labels.iloc[:10].Class\n",
    "\n",
    "test = tumour_gene_data.iloc[10:,:]\n",
    "test_labels = tumour_labels.iloc[10:].Class\n",
    "\n",
    "# Run an SVM classifier on the training data and predict the test data labels\n",
    "svm = SVC()\n",
    "svm.fit(train, train_labels)\n",
    "\n",
    "# Print the prediction accuracy\n",
    "print('SVM classifier accuracy =', sum(svm.predict(test) == test_labels) / len(test_labels) * 100, \"%\")"
   ]
  },
  {
   "cell_type": "markdown",
   "metadata": {},
   "source": [
    "##### <font color='blue'>Question: How does the classfier perform when we have less samples in the training dataset?</font>\n",
    "##### <font color='red'>The classifier performs worse when the number of features is smaller than the sample size.</font> \n",
    "##### "
   ]
  },
  {
   "cell_type": "markdown",
   "metadata": {},
   "source": [
    "### Task 3: Now use PCA to reduce the dimensionality of the dataset and apply another SVM classifier.\n",
    "\n",
    "- Keep the same number of datapoints in the training dataset (N = 10)."
   ]
  },
  {
   "cell_type": "code",
   "execution_count": 19,
   "metadata": {},
   "outputs": [
    {
     "name": "stdout",
     "output_type": "stream",
     "text": [
      "SVM classifier accuracy = 94.7565543071161 %\n"
     ]
    }
   ],
   "source": [
    "# Your code here!\n",
    "# Run a PCA on the data with a low number of componenets (try a few examples between 2 and 20)\n",
    "pca = PCA(n_components=2)\n",
    "tumour_gene_data_PCA = pca.fit_transform(tumour_gene_data_scaled)\n",
    "\n",
    "# Split data into training and test samples\n",
    "train = tumour_gene_data_PCA[:10,:]\n",
    "train_labels = tumour_labels.iloc[:10].Class\n",
    "\n",
    "test = tumour_gene_data_PCA[10:,:]\n",
    "test_labels = tumour_labels.iloc[10:].Class\n",
    "\n",
    "# Run an SVM classifier on the training data and predict the test data labels\n",
    "svm = SVC()\n",
    "svm.fit(train, train_labels)\n",
    "print('SVM classifier accuracy =', sum(svm.predict(test) == test_labels) / len(test) * 100, \"%\")"
   ]
  },
  {
   "cell_type": "markdown",
   "metadata": {},
   "source": [
    "\n",
    "##### <font color='blue'>Question: Why might sample size and number of features change the prediction accuracy of the unseen data?</font>\n",
    "##### <font color='red'>This is a problem of overfitting. A model trained on a small dataset with a large number of features will be overly specfic to the training data and will not generalise to unseen data. </font> \n",
    "##### \n",
    "#### "
   ]
  },
  {
   "cell_type": "markdown",
   "metadata": {},
   "source": [
    "# <U> Optional bonus excercise</U>:\n",
    "\n",
    "### Pick two (or more) clustering techniques and use the adjusted Rand score to see how well the clustering solution matches the original labels\n",
    "\n",
    "- A list of clustering methods can be found here: https://scikit-learn.org/stable/modules/clustering.html\n",
    "- The adjusted Rand Score give us a measure of similarity between two clustering solutions: https://scikit-learn.org/stable/modules/generated/sklearn.metrics.adjusted_rand_score.html"
   ]
  },
  {
   "cell_type": "code",
   "execution_count": 20,
   "metadata": {},
   "outputs": [],
   "source": [
    "# Your code here!\n",
    "# Import packages\n",
    "from sklearn.cluster import KMeans\n",
    "from sklearn.cluster import MeanShift\n",
    "from sklearn.cluster import AgglomerativeClustering\n",
    "from sklearn.metrics import adjusted_rand_score"
   ]
  },
  {
   "cell_type": "code",
   "execution_count": 21,
   "metadata": {},
   "outputs": [],
   "source": [
    "# Your code here!\n",
    "# For the adjusted Rand score the labels need to be integers. Replace the 'LUAD' and 'PRAD' labels with 0 and 1\n",
    "# in the tumour_labels file\n",
    "tumour_labels_int = tumour_labels.replace({'LUAD':0, 'PRAD':1})"
   ]
  },
  {
   "cell_type": "code",
   "execution_count": 22,
   "metadata": {},
   "outputs": [],
   "source": [
    "# Your code here!\n",
    "# Cluster the tumour_gene_data using two (or more) clustering algorithms\n",
    "kmeans = KMeans(n_clusters=2, random_state=0).fit(tumour_gene_data)\n",
    "meanshift = MeanShift(bandwidth=2).fit(tumour_gene_data)\n",
    "agglo = AgglomerativeClustering().fit(tumour_gene_data)"
   ]
  },
  {
   "cell_type": "code",
   "execution_count": 23,
   "metadata": {},
   "outputs": [
    {
     "name": "stdout",
     "output_type": "stream",
     "text": [
      "K means adj Rand score = 1.0\n",
      "Mean shift adj Rand score = 1.0\n",
      "Agglomerative clustering adj Rand score = 1.0\n"
     ]
    }
   ],
   "source": [
    "# Your code here!\n",
    "# Use the adjusted Rand score to compare clustering solutions to the original labels\n",
    "print('K means adj Rand score =', adjusted_rand_score(tumour_labels_int.Class, kmeans.labels_))\n",
    "print('Mean shift adj Rand score =', adjusted_rand_score(tumour_labels_int.Class, kmeans.labels_))\n",
    "print('Agglomerative clustering adj Rand score =', adjusted_rand_score(tumour_labels_int.Class, kmeans.labels_))"
   ]
  },
  {
   "cell_type": "markdown",
   "metadata": {},
   "source": [
    "##### <font color='blue'>Question: What does this tell us about our dataset?</font>\n",
    "##### <font color='red'>An adjusted Rand score of 1 indicates perfect cohorence between clustering solutions. It looks like our dataset is easily clustered into the appropriate labels, so there is a clear underlying group structure to our data that is observable with a range of clustering algorithms. </font> \n",
    "#####  "
   ]
  }
 ],
 "metadata": {
  "kernelspec": {
   "display_name": "Python 3",
   "language": "python",
   "name": "python3"
  },
  "language_info": {
   "codemirror_mode": {
    "name": "ipython",
    "version": 3
   },
   "file_extension": ".py",
   "mimetype": "text/x-python",
   "name": "python",
   "nbconvert_exporter": "python",
   "pygments_lexer": "ipython3",
   "version": "3.8.5"
  }
 },
 "nbformat": 4,
 "nbformat_minor": 4
}
