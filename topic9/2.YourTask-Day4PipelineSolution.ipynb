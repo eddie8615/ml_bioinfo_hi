{
 "cells": [
  {
   "cell_type": "markdown",
   "metadata": {},
   "source": [
    "<h1> Your Task : </h1> \n",
    "\n",
    "- Your task today will be to repeat the pipeline we created on Tuesday aiming to :\n",
    "\n",
    "    - Create a train, test and validate set, instead of train and test only!\n",
    "    - Fix the mistake in the earlier practical and make sure we do not replace 0s with NaNs for the number of pregnancies (Pregnancies feature)"
   ]
  },
  {
   "cell_type": "markdown",
   "metadata": {},
   "source": [
    "<h2 id=\"read\">Reading and examining the data</h2>\n",
    "\n",
    "- First, let's read the data and get to know it again. The file is called: pima-indians-diabetes.csv"
   ]
  },
  {
   "cell_type": "code",
   "execution_count": 256,
   "metadata": {},
   "outputs": [],
   "source": [
    "#####Your solution here #####\n",
    "import pandas as pd\n",
    "\n",
    "path_to_file =\"/Users/babylon/Documents/Teaching/ML/ML2022/Week2/Day4/pima-indians-diabetes.csv\"\n",
    "pima_data = pd.read_csv(path_to_file, encoding='utf-8')"
   ]
  },
  {
   "cell_type": "markdown",
   "metadata": {},
   "source": [
    "Take a look at the data again (.head() and .describe() if youj'd like) "
   ]
  },
  {
   "cell_type": "code",
   "execution_count": 257,
   "metadata": {
    "scrolled": true
   },
   "outputs": [
    {
     "data": {
      "text/html": [
       "<div>\n",
       "<style scoped>\n",
       "    .dataframe tbody tr th:only-of-type {\n",
       "        vertical-align: middle;\n",
       "    }\n",
       "\n",
       "    .dataframe tbody tr th {\n",
       "        vertical-align: top;\n",
       "    }\n",
       "\n",
       "    .dataframe thead th {\n",
       "        text-align: right;\n",
       "    }\n",
       "</style>\n",
       "<table border=\"1\" class=\"dataframe\">\n",
       "  <thead>\n",
       "    <tr style=\"text-align: right;\">\n",
       "      <th></th>\n",
       "      <th>Pregnancies</th>\n",
       "      <th>Glucose</th>\n",
       "      <th>BloodPressure</th>\n",
       "      <th>SkinThickness</th>\n",
       "      <th>Insulin</th>\n",
       "      <th>BMI</th>\n",
       "      <th>DiabetesPedigreeFunction</th>\n",
       "      <th>Age</th>\n",
       "      <th>Outcome</th>\n",
       "    </tr>\n",
       "  </thead>\n",
       "  <tbody>\n",
       "    <tr>\n",
       "      <th>0</th>\n",
       "      <td>6</td>\n",
       "      <td>148</td>\n",
       "      <td>72</td>\n",
       "      <td>35</td>\n",
       "      <td>0</td>\n",
       "      <td>33.6</td>\n",
       "      <td>0.627</td>\n",
       "      <td>50</td>\n",
       "      <td>1</td>\n",
       "    </tr>\n",
       "    <tr>\n",
       "      <th>1</th>\n",
       "      <td>1</td>\n",
       "      <td>85</td>\n",
       "      <td>66</td>\n",
       "      <td>29</td>\n",
       "      <td>0</td>\n",
       "      <td>26.6</td>\n",
       "      <td>0.351</td>\n",
       "      <td>31</td>\n",
       "      <td>0</td>\n",
       "    </tr>\n",
       "    <tr>\n",
       "      <th>2</th>\n",
       "      <td>8</td>\n",
       "      <td>183</td>\n",
       "      <td>64</td>\n",
       "      <td>0</td>\n",
       "      <td>0</td>\n",
       "      <td>23.3</td>\n",
       "      <td>0.672</td>\n",
       "      <td>32</td>\n",
       "      <td>1</td>\n",
       "    </tr>\n",
       "    <tr>\n",
       "      <th>3</th>\n",
       "      <td>1</td>\n",
       "      <td>89</td>\n",
       "      <td>66</td>\n",
       "      <td>23</td>\n",
       "      <td>94</td>\n",
       "      <td>28.1</td>\n",
       "      <td>0.167</td>\n",
       "      <td>21</td>\n",
       "      <td>0</td>\n",
       "    </tr>\n",
       "    <tr>\n",
       "      <th>4</th>\n",
       "      <td>0</td>\n",
       "      <td>137</td>\n",
       "      <td>40</td>\n",
       "      <td>35</td>\n",
       "      <td>168</td>\n",
       "      <td>43.1</td>\n",
       "      <td>2.288</td>\n",
       "      <td>33</td>\n",
       "      <td>1</td>\n",
       "    </tr>\n",
       "  </tbody>\n",
       "</table>\n",
       "</div>"
      ],
      "text/plain": [
       "   Pregnancies  Glucose  BloodPressure  SkinThickness  Insulin   BMI  \\\n",
       "0            6      148             72             35        0  33.6   \n",
       "1            1       85             66             29        0  26.6   \n",
       "2            8      183             64              0        0  23.3   \n",
       "3            1       89             66             23       94  28.1   \n",
       "4            0      137             40             35      168  43.1   \n",
       "\n",
       "   DiabetesPedigreeFunction  Age  Outcome  \n",
       "0                     0.627   50        1  \n",
       "1                     0.351   31        0  \n",
       "2                     0.672   32        1  \n",
       "3                     0.167   21        0  \n",
       "4                     2.288   33        1  "
      ]
     },
     "execution_count": 257,
     "metadata": {},
     "output_type": "execute_result"
    }
   ],
   "source": [
    "pima_data.head()"
   ]
  },
  {
   "cell_type": "markdown",
   "metadata": {},
   "source": [
    "Construct X and y\n",
    "- Features in X: [\"Pregnancies\",\"Glucose\",\"BloodPressure\",\"SkinThickness\",\"Insulin\",\"BMI\",\"DiabetesPedigreeFunction\",\"Age\"]\n",
    "- Feature in y: \"Outcome\""
   ]
  },
  {
   "cell_type": "code",
   "execution_count": 258,
   "metadata": {
    "scrolled": true
   },
   "outputs": [],
   "source": [
    "#####Your solution here #####\n",
    "\n",
    "\n",
    "X_original = pima_data[[\"Pregnancies\",\"Glucose\",\"BloodPressure\",\"SkinThickness\",\"Insulin\",\"BMI\",\"DiabetesPedigreeFunction\",\"Age\"]]\n",
    "y = pima_data[\"Outcome\"]\n",
    "\n",
    "\n"
   ]
  },
  {
   "cell_type": "markdown",
   "metadata": {},
   "source": [
    "- Now replace zeros with NaNs for Glucose, BloodPrssure, SkinThickness, Insulin, BMI"
   ]
  },
  {
   "cell_type": "code",
   "execution_count": 259,
   "metadata": {},
   "outputs": [],
   "source": [
    "\n",
    "##### Your solution to replace 0s with na for the futures shown here #####\n",
    "\n",
    "# Save the 'Naned' dataframe in X_nans, for us to be able to have the original\n",
    "import numpy as np\n",
    "pregnancies = X_original['Pregnancies']\n",
    "X_nans = X_original[[\"Glucose\",\"BloodPressure\",\"SkinThickness\",\n",
    "                     \"Insulin\",\"BMI\",\"DiabetesPedigreeFunction\",\"Age\"]].replace(0,np.NaN)\n",
    "X_nans[\"Pregnancies\"] = pregnancies\n",
    "\n",
    "X_nans.head()\n",
    "column_names = X_nans.columns"
   ]
  },
  {
   "cell_type": "markdown",
   "metadata": {},
   "source": [
    "- Now let's plot missingness"
   ]
  },
  {
   "cell_type": "code",
   "execution_count": 260,
   "metadata": {
    "scrolled": true
   },
   "outputs": [
    {
     "data": {
      "text/plain": [
       "<Figure size 720x432 with 0 Axes>"
      ]
     },
     "metadata": {},
     "output_type": "display_data"
    },
    {
     "data": {
      "image/png": "[encoded data removed]",
      "text/plain": [
       "<Figure size 512.125x360 with 1 Axes>"
      ]
     },
     "metadata": {
      "needs_background": "light"
     },
     "output_type": "display_data"
    }
   ],
   "source": [
    "##### Your Solution Here #####\n",
    "import matplotlib.pyplot as plt\n",
    "import seaborn as sns\n",
    "\n",
    "plt.figure(figsize=(10,6))\n",
    "sns.displot(\n",
    "    data=X_nans.isna().melt(value_name=\"missing\"),\n",
    "    y=\"variable\",\n",
    "    hue=\"missing\",\n",
    "    multiple=\"fill\",\n",
    "    aspect=1.25\n",
    ")\n",
    "plt.savefig(\"visualizing_missing_data_with_barplot_Seaborn_distplot.png\")"
   ]
  },
  {
   "cell_type": "markdown",
   "metadata": {},
   "source": [
    "- Now we can scale the data\n",
    "- You can use StandardScaler in sklearn: \n",
    " - from sklearn.preprocessing import StandardScaler\n",
    " - scaler = StandardScaler() "
   ]
  },
  {
   "cell_type": "code",
   "execution_count": 261,
   "metadata": {},
   "outputs": [
    {
     "data": {
      "text/plain": [
       "Index(['Glucose', 'BloodPressure', 'SkinThickness', 'Insulin', 'BMI',\n",
       "       'DiabetesPedigreeFunction', 'Age', 'Pregnancies'],\n",
       "      dtype='object')"
      ]
     },
     "execution_count": 261,
     "metadata": {},
     "output_type": "execute_result"
    }
   ],
   "source": [
    "##### Your solution here#####\n",
    "# remember: create a variable called X_nans_unsclaed by making a copy of X_nans\n",
    "# save the column names because scaling will yield an array and we would like to have a dataframe \n",
    "\n",
    "X_nans_unscaled = X_nans.copy()\n",
    "column_names = X_nans_unscaled.columns\n",
    "\n",
    "from sklearn.preprocessing import StandardScaler\n",
    "scaler = StandardScaler() \n",
    "\n",
    "X_nans = pd.DataFrame(scaler.fit_transform(X_nans), columns = column_names)\n",
    "\n",
    "column_names"
   ]
  },
  {
   "cell_type": "code",
   "execution_count": 262,
   "metadata": {
    "scrolled": false
   },
   "outputs": [
    {
     "data": {
      "text/html": [
       "<div>\n",
       "<style scoped>\n",
       "    .dataframe tbody tr th:only-of-type {\n",
       "        vertical-align: middle;\n",
       "    }\n",
       "\n",
       "    .dataframe tbody tr th {\n",
       "        vertical-align: top;\n",
       "    }\n",
       "\n",
       "    .dataframe thead th {\n",
       "        text-align: right;\n",
       "    }\n",
       "</style>\n",
       "<table border=\"1\" class=\"dataframe\">\n",
       "  <thead>\n",
       "    <tr style=\"text-align: right;\">\n",
       "      <th></th>\n",
       "      <th>Glucose</th>\n",
       "      <th>BloodPressure</th>\n",
       "      <th>SkinThickness</th>\n",
       "      <th>Insulin</th>\n",
       "      <th>BMI</th>\n",
       "      <th>DiabetesPedigreeFunction</th>\n",
       "      <th>Age</th>\n",
       "      <th>Pregnancies</th>\n",
       "    </tr>\n",
       "  </thead>\n",
       "  <tbody>\n",
       "    <tr>\n",
       "      <th>0</th>\n",
       "      <td>0.862287</td>\n",
       "      <td>-0.032746</td>\n",
       "      <td>0.558557</td>\n",
       "      <td>NaN</td>\n",
       "      <td>0.165097</td>\n",
       "      <td>0.468492</td>\n",
       "      <td>1.425995</td>\n",
       "      <td>0.639947</td>\n",
       "    </tr>\n",
       "    <tr>\n",
       "      <th>1</th>\n",
       "      <td>-1.202229</td>\n",
       "      <td>-0.517645</td>\n",
       "      <td>-0.014657</td>\n",
       "      <td>NaN</td>\n",
       "      <td>-0.846404</td>\n",
       "      <td>-0.365061</td>\n",
       "      <td>-0.190672</td>\n",
       "      <td>-0.844885</td>\n",
       "    </tr>\n",
       "    <tr>\n",
       "      <th>2</th>\n",
       "      <td>2.009241</td>\n",
       "      <td>-0.679278</td>\n",
       "      <td>NaN</td>\n",
       "      <td>NaN</td>\n",
       "      <td>-1.323254</td>\n",
       "      <td>0.604397</td>\n",
       "      <td>-0.105584</td>\n",
       "      <td>1.233880</td>\n",
       "    </tr>\n",
       "    <tr>\n",
       "      <th>3</th>\n",
       "      <td>-1.071148</td>\n",
       "      <td>-0.517645</td>\n",
       "      <td>-0.587871</td>\n",
       "      <td>-0.518847</td>\n",
       "      <td>-0.629654</td>\n",
       "      <td>-0.920763</td>\n",
       "      <td>-1.041549</td>\n",
       "      <td>-0.844885</td>\n",
       "    </tr>\n",
       "    <tr>\n",
       "      <th>4</th>\n",
       "      <td>0.501816</td>\n",
       "      <td>-2.618874</td>\n",
       "      <td>0.558557</td>\n",
       "      <td>0.104968</td>\n",
       "      <td>1.537847</td>\n",
       "      <td>5.484909</td>\n",
       "      <td>-0.020496</td>\n",
       "      <td>-1.141852</td>\n",
       "    </tr>\n",
       "  </tbody>\n",
       "</table>\n",
       "</div>"
      ],
      "text/plain": [
       "    Glucose  BloodPressure  SkinThickness   Insulin       BMI  \\\n",
       "0  0.862287      -0.032746       0.558557       NaN  0.165097   \n",
       "1 -1.202229      -0.517645      -0.014657       NaN -0.846404   \n",
       "2  2.009241      -0.679278            NaN       NaN -1.323254   \n",
       "3 -1.071148      -0.517645      -0.587871 -0.518847 -0.629654   \n",
       "4  0.501816      -2.618874       0.558557  0.104968  1.537847   \n",
       "\n",
       "   DiabetesPedigreeFunction       Age  Pregnancies  \n",
       "0                  0.468492  1.425995     0.639947  \n",
       "1                 -0.365061 -0.190672    -0.844885  \n",
       "2                  0.604397 -0.105584     1.233880  \n",
       "3                 -0.920763 -1.041549    -0.844885  \n",
       "4                  5.484909 -0.020496    -1.141852  "
      ]
     },
     "execution_count": 262,
     "metadata": {},
     "output_type": "execute_result"
    }
   ],
   "source": [
    "X_nans.head()"
   ]
  },
  {
   "cell_type": "markdown",
   "metadata": {},
   "source": [
    "- Now impute\n",
    "    - since we tested different imputation methods prior to this session: \n",
    "           - We'll go directly to knn imputation: \n",
    "    - To get you started: \n",
    "        from sklearn.impute import KNNImputer\n",
    "        X_knn = X_nans.copy()"
   ]
  },
  {
   "cell_type": "code",
   "execution_count": 263,
   "metadata": {},
   "outputs": [
    {
     "data": {
      "text/html": [
       "<div>\n",
       "<style scoped>\n",
       "    .dataframe tbody tr th:only-of-type {\n",
       "        vertical-align: middle;\n",
       "    }\n",
       "\n",
       "    .dataframe tbody tr th {\n",
       "        vertical-align: top;\n",
       "    }\n",
       "\n",
       "    .dataframe thead th {\n",
       "        text-align: right;\n",
       "    }\n",
       "</style>\n",
       "<table border=\"1\" class=\"dataframe\">\n",
       "  <thead>\n",
       "    <tr style=\"text-align: right;\">\n",
       "      <th></th>\n",
       "      <th>Glucose</th>\n",
       "      <th>BloodPressure</th>\n",
       "      <th>SkinThickness</th>\n",
       "      <th>Insulin</th>\n",
       "      <th>BMI</th>\n",
       "      <th>DiabetesPedigreeFunction</th>\n",
       "      <th>Age</th>\n",
       "      <th>Pregnancies</th>\n",
       "    </tr>\n",
       "  </thead>\n",
       "  <tbody>\n",
       "    <tr>\n",
       "      <th>0</th>\n",
       "      <td>0.862287</td>\n",
       "      <td>-0.032746</td>\n",
       "      <td>0.558557</td>\n",
       "      <td>-0.072061</td>\n",
       "      <td>0.165097</td>\n",
       "      <td>0.468492</td>\n",
       "      <td>1.425995</td>\n",
       "      <td>0.639947</td>\n",
       "    </tr>\n",
       "    <tr>\n",
       "      <th>1</th>\n",
       "      <td>-1.202229</td>\n",
       "      <td>-0.517645</td>\n",
       "      <td>-0.014657</td>\n",
       "      <td>-0.893978</td>\n",
       "      <td>-0.846404</td>\n",
       "      <td>-0.365061</td>\n",
       "      <td>-0.190672</td>\n",
       "      <td>-0.844885</td>\n",
       "    </tr>\n",
       "    <tr>\n",
       "      <th>2</th>\n",
       "      <td>2.009241</td>\n",
       "      <td>-0.679278</td>\n",
       "      <td>0.797396</td>\n",
       "      <td>0.606548</td>\n",
       "      <td>-1.323254</td>\n",
       "      <td>0.604397</td>\n",
       "      <td>-0.105584</td>\n",
       "      <td>1.233880</td>\n",
       "    </tr>\n",
       "    <tr>\n",
       "      <th>3</th>\n",
       "      <td>-1.071148</td>\n",
       "      <td>-0.517645</td>\n",
       "      <td>-0.587871</td>\n",
       "      <td>-0.518847</td>\n",
       "      <td>-0.629654</td>\n",
       "      <td>-0.920763</td>\n",
       "      <td>-1.041549</td>\n",
       "      <td>-0.844885</td>\n",
       "    </tr>\n",
       "    <tr>\n",
       "      <th>4</th>\n",
       "      <td>0.501816</td>\n",
       "      <td>-2.618874</td>\n",
       "      <td>0.558557</td>\n",
       "      <td>0.104968</td>\n",
       "      <td>1.537847</td>\n",
       "      <td>5.484909</td>\n",
       "      <td>-0.020496</td>\n",
       "      <td>-1.141852</td>\n",
       "    </tr>\n",
       "  </tbody>\n",
       "</table>\n",
       "</div>"
      ],
      "text/plain": [
       "    Glucose  BloodPressure  SkinThickness   Insulin       BMI  \\\n",
       "0  0.862287      -0.032746       0.558557 -0.072061  0.165097   \n",
       "1 -1.202229      -0.517645      -0.014657 -0.893978 -0.846404   \n",
       "2  2.009241      -0.679278       0.797396  0.606548 -1.323254   \n",
       "3 -1.071148      -0.517645      -0.587871 -0.518847 -0.629654   \n",
       "4  0.501816      -2.618874       0.558557  0.104968  1.537847   \n",
       "\n",
       "   DiabetesPedigreeFunction       Age  Pregnancies  \n",
       "0                  0.468492  1.425995     0.639947  \n",
       "1                 -0.365061 -0.190672    -0.844885  \n",
       "2                  0.604397 -0.105584     1.233880  \n",
       "3                 -0.920763 -1.041549    -0.844885  \n",
       "4                  5.484909 -0.020496    -1.141852  "
      ]
     },
     "execution_count": 263,
     "metadata": {},
     "output_type": "execute_result"
    }
   ],
   "source": [
    "##### Your solution for KNN imputation here #####\n",
    "\n",
    "from sklearn.impute import KNNImputer\n",
    "X_knn = X_nans.copy()\n",
    "\n",
    "imputer = KNNImputer(n_neighbors=2)\n",
    "X_knn_imputed = pd.DataFrame(imputer.fit_transform(X_knn), columns = column_names)\n",
    "X_knn_imputed.head()"
   ]
  },
  {
   "cell_type": "markdown",
   "metadata": {},
   "source": [
    "- Now train a RF model to estimate performance using knn-imputed data \n",
    "- Remember: we're using train-test-split twice to build: \n",
    "    - training set\n",
    "    - test set\n",
    "    - validate set\n",
    "- Because our dataset will be made into even smaller chunks, it is vital to stratify (regardless of what your classifier likes) to make sure that: \n",
    "    - The miniority class is represented in all subsets. \n",
    "    - so we'll use the stratify option in train_test_split (stratify=y)\n",
    "- Idea: \n",
    "    - split the data into two parts: X_traintest, y_traintest AND X_validate, y_validate\n",
    "    - Then call train_test_split AGAIN on X_traintest, y_traintest to get: \n",
    "        - X_train, y_train\n",
    "        - X_test, y_test\n",
    "    - use: stratify = y for all calls to train_test_split\n",
    "    \n",
    "- After you split the data: \n",
    "    - Create an RF classifier with the default parameters\n",
    "    - Train it on X_train\n",
    "    - Output its predictions on X_test"
   ]
  },
  {
   "cell_type": "code",
   "execution_count": 273,
   "metadata": {
    "scrolled": false
   },
   "outputs": [
    {
     "name": "stdout",
     "output_type": "stream",
     "text": [
      " Classification report of RF using KNN Imputation : \n",
      "              precision    recall  f1-score   support\n",
      "\n",
      "           0       0.81      0.84      0.82        80\n",
      "           1       0.68      0.63      0.65        43\n",
      "\n",
      "    accuracy                           0.76       123\n",
      "   macro avg       0.74      0.73      0.74       123\n",
      "weighted avg       0.76      0.76      0.76       123\n",
      "\n"
     ]
    }
   ],
   "source": [
    "#####Your solution here ###############\n",
    "from sklearn.ensemble import RandomForestClassifier\n",
    "from sklearn.model_selection import train_test_split\n",
    "from sklearn import metrics\n",
    "from sklearn.metrics import classification_report\n",
    "\n",
    "X_traintest, X_val, y_traintest, y_val = train_test_split(X_knn_imputed, y, \n",
    "                                                          test_size = 0.2, random_state = 42, stratify=y)\n",
    "\n",
    "\n",
    "X_train, X_test, y_train, y_test = train_test_split(X_traintest, y_traintest, \n",
    "                                                          test_size = 0.2, random_state = 42, stratify=y_traintest)\n",
    "#Feed data into Random Forest Algorithm\n",
    "clf1 = RandomForestClassifier(random_state=42)\n",
    "clf1.fit(X_train, y_train)\n",
    "y_pred = clf1.predict(X_test)\n",
    "\n",
    "#Check performance\n",
    "print(\" Classification report of RF using KNN Imputation : \")\n",
    "print(classification_report(y_test,y_pred))\n",
    "\n",
    "\n"
   ]
  },
  {
   "cell_type": "markdown",
   "metadata": {},
   "source": [
    "- Performance not bad at all!!! ( I think it has to do with the number of pregnancies - real apologies for the mistake). \n",
    "- Now let's try imbalanced learning techniques. \n",
    "- Because my dataset is different, I am going to try all 4 techniques again. To re-cap, they are: \n",
    "    - Weighted classification \n",
    "    - SMOTE\n"
   ]
  },
  {
   "cell_type": "markdown",
   "metadata": {},
   "source": [
    "<h4> Approach 1: Weighted Classification </h4> \n",
    "\n",
    "- I'll get you the weights to help  you start: "
   ]
  },
  {
   "cell_type": "code",
   "execution_count": 274,
   "metadata": {
    "scrolled": true
   },
   "outputs": [
    {
     "name": "stdout",
     "output_type": "stream",
     "text": [
      "Counter({0: 320, 1: 171})\n"
     ]
    }
   ],
   "source": [
    "from collections import Counter\n",
    "counter = Counter(y_train)\n",
    "print(counter)\n",
    "\n",
    "#class weights\n",
    "weights = {0:0.5, 1:1.0}\n",
    "#We've already split the data - no need to do so. \n"
   ]
  },
  {
   "cell_type": "code",
   "execution_count": 275,
   "metadata": {},
   "outputs": [
    {
     "name": "stdout",
     "output_type": "stream",
     "text": [
      " Classification report of RF using KNN Imputation and class weights : \n",
      "              precision    recall  f1-score   support\n",
      "\n",
      "           0       0.80      0.88      0.84        80\n",
      "           1       0.72      0.60      0.66        43\n",
      "\n",
      "    accuracy                           0.78       123\n",
      "   macro avg       0.76      0.74      0.75       123\n",
      "weighted avg       0.78      0.78      0.78       123\n",
      "\n"
     ]
    }
   ],
   "source": [
    "### Your solution here ###\n",
    "#Feed data into Random Forest Algorithm, note the class weight parameter!\n",
    "clf1 = RandomForestClassifier(class_weight = weights, random_state=42)\n",
    "clf1.fit(X_train, y_train)\n",
    "y_pred = clf1.predict(X_test)\n",
    "\n",
    "#Check performance\n",
    "print(\" Classification report of RF using KNN Imputation and class weights : \")\n",
    "print(classification_report(y_test,y_pred))"
   ]
  },
  {
   "cell_type": "markdown",
   "metadata": {},
   "source": [
    "- An improvement - can we do better? let's try other approaches"
   ]
  },
  {
   "cell_type": "markdown",
   "metadata": {},
   "source": [
    "<h4> Approach 2: Using SMOTE </h4> \n"
   ]
  },
  {
   "cell_type": "code",
   "execution_count": 276,
   "metadata": {
    "scrolled": false
   },
   "outputs": [
    {
     "name": "stdout",
     "output_type": "stream",
     "text": [
      "Counter({1: 320, 0: 320})\n"
     ]
    }
   ],
   "source": [
    "### Your solution here ###\n",
    "import imblearn\n",
    "from imblearn.over_sampling import SMOTE\n",
    "\n",
    "oversample = SMOTE()\n",
    "X_train_smoted, y_train_smoted = oversample.fit_resample(X_train, y_train)\n",
    "\n",
    "#check the size of the data after SMOTing: \n",
    "counter = Counter(y_train_smoted)\n",
    "print(counter)\n"
   ]
  },
  {
   "cell_type": "code",
   "execution_count": 277,
   "metadata": {
    "scrolled": true
   },
   "outputs": [
    {
     "name": "stdout",
     "output_type": "stream",
     "text": [
      " Classification report of RF using KNN Imputation AND SMOTing : \n",
      "              precision    recall  f1-score   support\n",
      "\n",
      "           0       0.85      0.79      0.82        80\n",
      "           1       0.65      0.74      0.70        43\n",
      "\n",
      "    accuracy                           0.77       123\n",
      "   macro avg       0.75      0.77      0.76       123\n",
      "weighted avg       0.78      0.77      0.78       123\n",
      "\n"
     ]
    }
   ],
   "source": [
    "#### Your solution here #####\n",
    "clf2 = RandomForestClassifier(random_state=42)\n",
    "clf2.fit(X_train_smoted, y_train_smoted)\n",
    "y_pred = clf2.predict(X_test)\n",
    "\n",
    "#Check performance\n",
    "print(\" Classification report of RF using KNN Imputation AND SMOTing : \")\n",
    "print(classification_report(y_test,y_pred))\n",
    "\n"
   ]
  },
  {
   "cell_type": "markdown",
   "metadata": {},
   "source": [
    "- Good improvement too!"
   ]
  },
  {
   "cell_type": "markdown",
   "metadata": {},
   "source": [
    "- Now let's cross-validate the approaches \n"
   ]
  },
  {
   "cell_type": "code",
   "execution_count": 278,
   "metadata": {
    "scrolled": false
   },
   "outputs": [
    {
     "name": "stdout",
     "output_type": "stream",
     "text": [
      "Mean Accuracy using weighted classification: 0.7665\n",
      "Mean Precision using weighted classification 0.7488\n",
      "Mean Recall using weighted classification 0.7201\n",
      "Mean Accuracy using SMOTE : 0.7682\n",
      "Mean Precision using SMOTE : 0.7504\n",
      "Mean Recall using SMOTE: 0.7276\n"
     ]
    }
   ],
   "source": [
    "from sklearn.model_selection import cross_validate\n",
    "# Define evaluation procedure (here we use Repeated Stratified K-Fold CV)\n",
    "cv_def=RepeatedStratifiedKFold(n_splits=10, n_repeats=3, random_state=1)\n",
    "\n",
    "scoring=['accuracy','precision_macro','recall_macro']\n",
    "\n",
    "clf1c = RandomForestClassifier(class_weight = weights, random_state=42)\n",
    "final_scores1 = cross_validate(clf1c, X_traintest, y_traintest, scoring=scoring, cv=cv_def, n_jobs=-1)\n",
    "\n",
    "# summarize performance - clf1 using cross validation \n",
    "print('Mean Accuracy using weighted classification: %.4f' % np.mean(final_scores1['test_accuracy']))\n",
    "print('Mean Precision using weighted classification %.4f' % np.mean(final_scores1['test_precision_macro']))\n",
    "print('Mean Recall using weighted classification %.4f' % np.mean(final_scores1['test_recall_macro']))\n",
    "\n",
    "# summarize performance - clf2 using SMOTE \n",
    "oversample = SMOTE()\n",
    "X_traintest_smoted, y_traintest_smoted = oversample.fit_resample(X_traintest, y_traintest)\n",
    "clf2c = RandomForestClassifier(random_state=42)\n",
    "\n",
    "final_scores2 = cross_validate(clf2c, X_traintest, y_traintest, scoring=scoring, cv=cv_def, n_jobs=-1)\n",
    "\n",
    "# summarize performance - clf2 using cross validation \n",
    "print('Mean Accuracy using SMOTE : %.4f' % np.mean(final_scores2['test_accuracy']))\n",
    "print('Mean Precision using SMOTE : %.4f' % np.mean(final_scores2['test_precision_macro']))\n",
    "print('Mean Recall using SMOTE: %.4f' % np.mean(final_scores2['test_recall_macro']))\n"
   ]
  },
  {
   "cell_type": "markdown",
   "metadata": {},
   "source": [
    "- Both approaches work well. \n",
    "- Pick your favourite (or tune the hyperparameters first)!\n",
    "- Save: \n",
    "    - X_knn_imputed and the outcome y - FavouriteData.csv\n",
    "    - X_validate and y_validate - ValidationData.csv\n",
    "    - Your favourite classifier (I'll choose clf1) - FavouriteModel.pkl\n",
    "    - You can what you want with those later on!"
   ]
  },
  {
   "cell_type": "code",
   "execution_count": 280,
   "metadata": {
    "scrolled": false
   },
   "outputs": [
    {
     "data": {
      "image/png": "[encoded data removed]",
      "text/plain": [
       "<Figure size 576x338.4 with 2 Axes>"
      ]
     },
     "metadata": {
      "needs_background": "light"
     },
     "output_type": "display_data"
    }
   ],
   "source": [
    "\n",
    "import shap  # package used to calculate Shap values\n",
    "\n",
    "\n",
    "# Create object that can calculate shap values\n",
    "explainer = shap.TreeExplainer(clf1)\n",
    "\n",
    "# calculate shap values. This is what we will plot.\n",
    "# Calculate shap_values for all of val_X rather than a single row, to have more data for plot.\n",
    "shap_values = explainer.shap_values(X_val)\n",
    "\n",
    "# Make plot. Index of [1] is explained in text below.\n",
    "shap.summary_plot(shap_values[1],X_val)"
   ]
  },
  {
   "cell_type": "markdown",
   "metadata": {},
   "source": [
    "You can do more if you'd like - look at local explanations, etc.. :)"
   ]
  },
  {
   "cell_type": "code",
   "execution_count": null,
   "metadata": {},
   "outputs": [],
   "source": []
  }
 ],
 "metadata": {
  "kernelspec": {
   "display_name": "mlBioHealth",
   "language": "python",
   "name": "mlbiohealth"
  },
  "language_info": {
   "codemirror_mode": {
    "name": "ipython",
    "version": 3
   },
   "file_extension": ".py",
   "mimetype": "text/x-python",
   "name": "python",
   "nbconvert_exporter": "python",
   "pygments_lexer": "ipython3",
   "version": "3.8.10"
  }
 },
 "nbformat": 4,
 "nbformat_minor": 4
}
