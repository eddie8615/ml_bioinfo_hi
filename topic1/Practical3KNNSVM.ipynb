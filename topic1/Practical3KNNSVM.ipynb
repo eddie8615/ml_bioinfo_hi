{
 "cells": [
  {
   "cell_type": "markdown",
   "metadata": {},
   "source": [
    "<h1>Table of contents</h1>\n",
    "\n",
    "<div class=\"alert alert-block alert-info\" style=\"margin-top: 20px\">\n",
    "    <ol>\n",
    "        <li><a href=\"#practical_plan\">Practical overview</a></li>\n",
    "        <li><a href=\"#reading_data\">Imports and reading data </a></li>\n",
    "        <li><a href=\"#knn\">Classification with K-nearest Neighbours </a></li>\n",
    "        <li><a href=\"#task1\">Task 1: Implementing a KNN classifier with n = 100</a></li>\n",
    "        <li><a href=\"#task2\">Task 2: Implementing an SVM classifier</a></li>      \n",
    "    </ol>\n",
    "</div>\n",
    "<br>\n",
    "<hr>"
   ]
  },
  {
   "cell_type": "markdown",
   "metadata": {},
   "source": [
    "<h2 id=\"practical_plan\">Practical overview </h2>\n",
    "\n",
    "In this tutorial, we will be implementing a supervised machine learning classifier to predict the type of cancer from the bc_decoded data. We will do so using two models: \n",
    "\n",
    "    1. K-Nearest Neighbour Classifier\n",
    "    2. Support Vector Machines (SVM)\n",
    "    \n",
    "We haven't covered KNN in our lectures. It's a very easy/lazy algorithm based on the neighbourhood concept of K-Means. You can learn most of what you need to know about KNN from the following video:  \n",
    "    - https://www.youtube.com/watch?v=MDniRwXizWo"
   ]
  },
  {
   "cell_type": "markdown",
   "metadata": {},
   "source": [
    "<h2 id=\"reading_data\">Imports and reading data  </h2>\n",
    "\n",
    "- Remember: Scikit-learn is organised in sublibraries (or modules):\n",
    "    - The sklearn.neighbors module implements KNN (KNeighborsClassifier)\n",
    "    - The sklearn.model_selection module contains functions to split the data between training and testing.\n",
    "    - The sklearn.metrics module contains all performance estimators and metrics\n",
    "    - The svm module is a wrapper containing submodules for the SVM algoroithms. SVC is a support vector classifier in the module. \n",
    "\n",
    "\n",
    "    "
   ]
  },
  {
   "cell_type": "code",
   "execution_count": 24,
   "metadata": {},
   "outputs": [],
   "source": [
    "from sklearn.neighbors import KNeighborsClassifier\n",
    "from sklearn.model_selection import train_test_split\n",
    "from sklearn.metrics import confusion_matrix,plot_confusion_matrix, classification_report, accuracy_score\n",
    "import pandas as pd\n",
    "import matplotlib.pyplot as plt\n",
    "%matplotlib inline"
   ]
  },
  {
   "cell_type": "code",
   "execution_count": 25,
   "metadata": {},
   "outputs": [],
   "source": [
    "path_to_file =\"/Users/babylon/Documents/Teaching/ML/ML2022/Day1/Practicals/bc_encoded.csv\"\n",
    "bc_data = pd.read_csv(path_to_file, encoding='utf-8')"
   ]
  },
  {
   "cell_type": "code",
   "execution_count": 26,
   "metadata": {},
   "outputs": [
    {
     "data": {
      "text/html": [
       "<div>\n",
       "<style scoped>\n",
       "    .dataframe tbody tr th:only-of-type {\n",
       "        vertical-align: middle;\n",
       "    }\n",
       "\n",
       "    .dataframe tbody tr th {\n",
       "        vertical-align: top;\n",
       "    }\n",
       "\n",
       "    .dataframe thead th {\n",
       "        text-align: right;\n",
       "    }\n",
       "</style>\n",
       "<table border=\"1\" class=\"dataframe\">\n",
       "  <thead>\n",
       "    <tr style=\"text-align: right;\">\n",
       "      <th></th>\n",
       "      <th>Unnamed: 0</th>\n",
       "      <th>Clump_Thickness</th>\n",
       "      <th>Cell_Size_Uniformity</th>\n",
       "      <th>Cell_Shape_Uniformity</th>\n",
       "      <th>Marginal_Adhesion</th>\n",
       "      <th>Single_Epi_Cell_Size</th>\n",
       "      <th>Bare_Nuclei</th>\n",
       "      <th>Bland_Chromatin</th>\n",
       "      <th>Normal_Nucleoli</th>\n",
       "      <th>Mitoses</th>\n",
       "      <th>Class</th>\n",
       "    </tr>\n",
       "  </thead>\n",
       "  <tbody>\n",
       "    <tr>\n",
       "      <th>0</th>\n",
       "      <td>0</td>\n",
       "      <td>5</td>\n",
       "      <td>1</td>\n",
       "      <td>1</td>\n",
       "      <td>1</td>\n",
       "      <td>2</td>\n",
       "      <td>1.0</td>\n",
       "      <td>3</td>\n",
       "      <td>1</td>\n",
       "      <td>1</td>\n",
       "      <td>0</td>\n",
       "    </tr>\n",
       "    <tr>\n",
       "      <th>1</th>\n",
       "      <td>1</td>\n",
       "      <td>5</td>\n",
       "      <td>4</td>\n",
       "      <td>4</td>\n",
       "      <td>5</td>\n",
       "      <td>7</td>\n",
       "      <td>10.0</td>\n",
       "      <td>3</td>\n",
       "      <td>2</td>\n",
       "      <td>1</td>\n",
       "      <td>0</td>\n",
       "    </tr>\n",
       "    <tr>\n",
       "      <th>2</th>\n",
       "      <td>2</td>\n",
       "      <td>3</td>\n",
       "      <td>1</td>\n",
       "      <td>1</td>\n",
       "      <td>1</td>\n",
       "      <td>2</td>\n",
       "      <td>2.0</td>\n",
       "      <td>3</td>\n",
       "      <td>1</td>\n",
       "      <td>1</td>\n",
       "      <td>0</td>\n",
       "    </tr>\n",
       "    <tr>\n",
       "      <th>3</th>\n",
       "      <td>3</td>\n",
       "      <td>6</td>\n",
       "      <td>8</td>\n",
       "      <td>8</td>\n",
       "      <td>1</td>\n",
       "      <td>3</td>\n",
       "      <td>4.0</td>\n",
       "      <td>3</td>\n",
       "      <td>7</td>\n",
       "      <td>1</td>\n",
       "      <td>0</td>\n",
       "    </tr>\n",
       "    <tr>\n",
       "      <th>4</th>\n",
       "      <td>4</td>\n",
       "      <td>4</td>\n",
       "      <td>1</td>\n",
       "      <td>1</td>\n",
       "      <td>3</td>\n",
       "      <td>2</td>\n",
       "      <td>1.0</td>\n",
       "      <td>3</td>\n",
       "      <td>1</td>\n",
       "      <td>1</td>\n",
       "      <td>0</td>\n",
       "    </tr>\n",
       "  </tbody>\n",
       "</table>\n",
       "</div>"
      ],
      "text/plain": [
       "   Unnamed: 0  Clump_Thickness  Cell_Size_Uniformity  Cell_Shape_Uniformity  \\\n",
       "0           0                5                     1                      1   \n",
       "1           1                5                     4                      4   \n",
       "2           2                3                     1                      1   \n",
       "3           3                6                     8                      8   \n",
       "4           4                4                     1                      1   \n",
       "\n",
       "   Marginal_Adhesion  Single_Epi_Cell_Size  Bare_Nuclei  Bland_Chromatin  \\\n",
       "0                  1                     2          1.0                3   \n",
       "1                  5                     7         10.0                3   \n",
       "2                  1                     2          2.0                3   \n",
       "3                  1                     3          4.0                3   \n",
       "4                  3                     2          1.0                3   \n",
       "\n",
       "   Normal_Nucleoli  Mitoses  Class  \n",
       "0                1        1      0  \n",
       "1                2        1      0  \n",
       "2                1        1      0  \n",
       "3                7        1      0  \n",
       "4                1        1      0  "
      ]
     },
     "execution_count": 26,
     "metadata": {},
     "output_type": "execute_result"
    }
   ],
   "source": [
    "bc_data.head()"
   ]
  },
  {
   "cell_type": "markdown",
   "metadata": {},
   "source": [
    "<h2 id=\"knn\">Supervised Learning Using a K-Nearest Neighbours   </h2>\n",
    "\n",
    "- Recall that supervised learning aims to predict the outcome for unknown cases. \n",
    "- The life cycle of a supervised learning: \n",
    "    - Select the features that will be used for prediction. We will use all the features as before. \n",
    "    - Decide on the outcome (in our case, it is hospital_mortality)\n",
    "    - Split the data into training and testing sets where: \n",
    "        - The training set will be used to train the algorithm\n",
    "        - The test set is assumed to contain cases with unknown outcomes.\n",
    "        - We will split the dataset into:\n",
    "            - 2/3 of the samples will be used for training\n",
    "            - 1/3 of the samples will be used for testing\n",
    "    - Evaluate the algorithm performance:\n",
    "        - Compare the original outcomes in the test set with the outcomes predicted by the algorithm.\n",
    "        - We can compute accuracy, sensitivity, specificity, and other perofmrance metrics (we will learn more about this in detail during Day 3). \n",
    "        - In Python, each metric needs to be imported separately in order for us to be able to use it (i.e. add to: from sklearn.metrics import accuracy_score, confusion_matrix above)"
   ]
  },
  {
   "cell_type": "code",
   "execution_count": 27,
   "metadata": {
    "scrolled": true
   },
   "outputs": [
    {
     "name": "stderr",
     "output_type": "stream",
     "text": [
      "<ipython-input-27-3f05e993796b>:22: DataConversionWarning: A column-vector y was passed when a 1d array was expected. Please change the shape of y to (n_samples, ), for example using ravel().\n",
      "  knnmodel.fit(X_train,y_train)\n"
     ]
    },
    {
     "data": {
      "text/plain": [
       "KNeighborsClassifier()"
      ]
     },
     "execution_count": 27,
     "metadata": {},
     "output_type": "execute_result"
    }
   ],
   "source": [
    "#1. Split  the data into training & testing set. \n",
    "# Instead of splitting the data manually, we can use the train_test_split function in scikit learn.\n",
    "# We first have to designate the features/predictors (X) and outcomes (Y). \n",
    "\n",
    "X = bc_data.loc[:,['Clump_Thickness','Cell_Size_Uniformity','Cell_Shape_Uniformity','Marginal_Adhesion','Single_Epi_Cell_Size','Bland_Chromatin','Normal_Nucleoli','Mitoses']]\n",
    "y = bc_data.loc[:, ['Class']]\n",
    "\n",
    "#2. Call train_test_split. For more information about the parameters, look it up in the \n",
    "#scikit learn documentation here:\n",
    "#https://scikit-learn.org/stable/modules/generated/sklearn.model_selection.train_test_split.html\n",
    "\n",
    "X_train, X_test, y_train, y_test = train_test_split(X, y, test_size=0.33)\n",
    "\n",
    "#3. Next, we create and train an instance of the KNNClassifier class. \n",
    "#We provide the y values because our model uses a supervised machine learning algorithm.\n",
    "\n",
    "#The KNN classifier has one parameter: the number of neighbours (n_neighbors). \n",
    "#The sklean default is n_neighbors=5. Let's use the default settings for now. \n",
    "\n",
    "knnmodel = KNeighborsClassifier()\n",
    "#4. Train the classifier using the training data (features/predictors and outcomes)\n",
    "knnmodel.fit(X_train,y_train)\n"
   ]
  },
  {
   "cell_type": "markdown",
   "metadata": {},
   "source": [
    "- Now let's see test our classifier using the X_test data"
   ]
  },
  {
   "cell_type": "code",
   "execution_count": 28,
   "metadata": {
    "scrolled": false
   },
   "outputs": [
    {
     "name": "stdout",
     "output_type": "stream",
     "text": [
      "The accuracy score of the K-nearest Neighbours Algorithm is:  0.9567099567099567\n",
      "[[148   5]\n",
      " [  5  73]]\n"
     ]
    },
    {
     "data": {
      "image/png": "[encoded data removed]",
      "text/plain": [
       "<Figure size 432x288 with 2 Axes>"
      ]
     },
     "metadata": {
      "needs_background": "light"
     },
     "output_type": "display_data"
    }
   ],
   "source": [
    "\n",
    "#5. Use the classifer to predict the outcomes of the test set (predict(x_test)). \n",
    "\n",
    "#Knnpredictions will contain a vector of predictions, whose correctness can be evaluated by comparing to y_test \n",
    "knnpredictions = knnmodel.predict(X_test)\n",
    "\n",
    "#6. Computing the accuracy of the classifier by computing the accuracy score of y_test and knnpredictions\n",
    "print('The accuracy score of the K-nearest Neighbours Algorithm is: ',accuracy_score(y_test, knnpredictions))\n",
    "\n",
    "#7. We can plot the confusion matrix\n",
    "# the confusion_matrix is created by comparing the predicted values (knnpredictions) against the true values (y_test)\n",
    "\n",
    "#class_names contains the labels we would like to use. This can be ignored.\n",
    "class_names  =[\"Benign\", \"Malignant\"]\n",
    "\n",
    "#You can see the documentation of the plotting function here: \n",
    "#https://scikit-learn.org/stable/modules/generated/sklearn.metrics.plot_confusion_matrix.html\n",
    "\n",
    "#You can also view auto-generated examples from the scikitlearn documentation: \n",
    "# https://scikit-learn.org/stable/auto_examples/model_selection/plot_confusion_matrix.html\n",
    "disp = plot_confusion_matrix(knnmodel, X_test, y_test, display_labels=class_names, cmap=plt.cm.Blues)\n",
    "\n",
    "disp.ax_.set_title(\"Confusion Matrix\")\n",
    "\n",
    "print(disp.confusion_matrix)\n",
    "\n",
    "plt.show()"
   ]
  },
  {
   "cell_type": "markdown",
   "metadata": {},
   "source": [
    "Let's print out the classification report to know the performance of the model across a number of performance metrics"
   ]
  },
  {
   "cell_type": "code",
   "execution_count": 29,
   "metadata": {
    "scrolled": true
   },
   "outputs": [
    {
     "name": "stdout",
     "output_type": "stream",
     "text": [
      " Classification report of the KNN model \n",
      "              precision    recall  f1-score   support\n",
      "\n",
      "           0       0.97      0.97      0.97       153\n",
      "           1       0.94      0.94      0.94        78\n",
      "\n",
      "    accuracy                           0.96       231\n",
      "   macro avg       0.95      0.95      0.95       231\n",
      "weighted avg       0.96      0.96      0.96       231\n",
      "\n"
     ]
    }
   ],
   "source": [
    "print(\" Classification report of the KNN model \")\n",
    "print(classification_report(y_test,knnpredictions))"
   ]
  },
  {
   "cell_type": "markdown",
   "metadata": {},
   "source": [
    "### Reflection: \n",
    "- How well does the classifier perform? How do we read the confusion matrix? \n",
    "    - let's discuss in class\n",
    "- What do all the metrics mean? and what is a confusion matrix? refer to the Towards Data Science article to understand: https://towardsdatascience.com/understanding-the-confusion-matrix-and-how-to-implement-it-in-python-319202e0fe4d (more on this on Day 3)\n",
    "\n"
   ]
  },
  {
   "cell_type": "markdown",
   "metadata": {},
   "source": [
    "<h2 id=\"task1\">Task 1: Implementing a KNN classifier with n = 100 </h2>\n",
    "- Peform the same task above with n_neighbors=100. \n",
    "- How does the performance change? compare the confusion matrices & classification reports. \n",
    "- Which classifier is better?\n"
   ]
  },
  {
   "cell_type": "code",
   "execution_count": 1,
   "metadata": {
    "scrolled": true
   },
   "outputs": [],
   "source": [
    "### Your solution here ###\n"
   ]
  },
  {
   "cell_type": "markdown",
   "metadata": {},
   "source": [
    "- The performance quickly deteriorates when k=100. This is likely due to overfitting (we'll learn more about this in day 4, but raise your hand when you get here and we can discuss in class!). "
   ]
  },
  {
   "cell_type": "markdown",
   "metadata": {},
   "source": [
    "<h2 id=\"task2\">Task 2: Implementing an SVM classifier</h2>\n",
    "\n",
    "Basically, mapping data into a higher dimensional space is called kernelling. The mathematical function used for the transformation is known as the kernel function, and can be of different types, such as:\n",
    "\n",
    "    1.Linear\n",
    "    2.Polynomial\n",
    "    3.Radial basis function (RBF)\n",
    "    4.Sigmoid\n",
    "    \n",
    "Each of these functions has its characteristics, pros and cons, and equation, but as there's no easy way of knowing which function performs best with any given dataset, we usually choose different functions in turn and compare the results. \n",
    "\n",
    "In this exercise:\n",
    "- You will implement an SVM classifier using the default Kernal RBF (Radial Basis Function). \n",
    "- Report the classification report as done for KNNs bove, and plot the confusion matrix. \n",
    "- Try a few other kernels and see if the performance improves. \n",
    "- Who's the best performer so far? SVM or KNN?\n",
    "\n",
    "\n"
   ]
  },
  {
   "cell_type": "code",
   "execution_count": 2,
   "metadata": {},
   "outputs": [],
   "source": [
    "#### Your solution here ### \n"
   ]
  },
  {
   "cell_type": "markdown",
   "metadata": {},
   "source": []
  },
  {
   "cell_type": "code",
   "execution_count": null,
   "metadata": {},
   "outputs": [],
   "source": []
  }
 ],
 "metadata": {
  "kernelspec": {
   "display_name": "Python 3",
   "language": "python",
   "name": "python3"
  },
  "language_info": {
   "codemirror_mode": {
    "name": "ipython",
    "version": 3
   },
   "file_extension": ".py",
   "mimetype": "text/x-python",
   "name": "python",
   "nbconvert_exporter": "python",
   "pygments_lexer": "ipython3",
   "version": "3.8.5"
  }
 },
 "nbformat": 4,
 "nbformat_minor": 2
}
